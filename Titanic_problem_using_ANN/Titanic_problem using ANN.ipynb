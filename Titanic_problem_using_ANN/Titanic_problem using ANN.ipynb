{
 "cells": [
  {
   "cell_type": "code",
   "execution_count": 5,
   "metadata": {},
   "outputs": [
    {
     "name": "stderr",
     "output_type": "stream",
     "text": [
      "/home/sakil/anaconda/lib/python3.7/site-packages/statsmodels/tools/_testing.py:19: FutureWarning: pandas.util.testing is deprecated. Use the functions in the public API at pandas.testing instead.\n",
      "  import pandas.util.testing as tm\n"
     ]
    }
   ],
   "source": [
    "# Importing the libraries\n",
    "import numpy as np\n",
    "import matplotlib.pyplot as plt\n",
    "import pandas as pd\n",
    "import seaborn as sns\n",
    "%matplotlib inline"
   ]
  },
  {
   "cell_type": "code",
   "execution_count": 2,
   "metadata": {
    "scrolled": true
   },
   "outputs": [
    {
     "data": {
      "text/html": [
       "<div>\n",
       "<style scoped>\n",
       "    .dataframe tbody tr th:only-of-type {\n",
       "        vertical-align: middle;\n",
       "    }\n",
       "\n",
       "    .dataframe tbody tr th {\n",
       "        vertical-align: top;\n",
       "    }\n",
       "\n",
       "    .dataframe thead th {\n",
       "        text-align: right;\n",
       "    }\n",
       "</style>\n",
       "<table border=\"1\" class=\"dataframe\">\n",
       "  <thead>\n",
       "    <tr style=\"text-align: right;\">\n",
       "      <th></th>\n",
       "      <th>PassengerId</th>\n",
       "      <th>Survived</th>\n",
       "      <th>Pclass</th>\n",
       "      <th>Name</th>\n",
       "      <th>Sex</th>\n",
       "      <th>Age</th>\n",
       "      <th>SibSp</th>\n",
       "      <th>Parch</th>\n",
       "      <th>Ticket</th>\n",
       "      <th>Fare</th>\n",
       "      <th>Cabin</th>\n",
       "      <th>Embarked</th>\n",
       "    </tr>\n",
       "  </thead>\n",
       "  <tbody>\n",
       "    <tr>\n",
       "      <th>0</th>\n",
       "      <td>1</td>\n",
       "      <td>0</td>\n",
       "      <td>3</td>\n",
       "      <td>Braund, Mr. Owen Harris</td>\n",
       "      <td>male</td>\n",
       "      <td>22.0</td>\n",
       "      <td>1</td>\n",
       "      <td>0</td>\n",
       "      <td>A/5 21171</td>\n",
       "      <td>7.2500</td>\n",
       "      <td>NaN</td>\n",
       "      <td>S</td>\n",
       "    </tr>\n",
       "    <tr>\n",
       "      <th>1</th>\n",
       "      <td>2</td>\n",
       "      <td>1</td>\n",
       "      <td>1</td>\n",
       "      <td>Cumings, Mrs. John Bradley (Florence Briggs Th...</td>\n",
       "      <td>female</td>\n",
       "      <td>38.0</td>\n",
       "      <td>1</td>\n",
       "      <td>0</td>\n",
       "      <td>PC 17599</td>\n",
       "      <td>71.2833</td>\n",
       "      <td>C85</td>\n",
       "      <td>C</td>\n",
       "    </tr>\n",
       "    <tr>\n",
       "      <th>2</th>\n",
       "      <td>3</td>\n",
       "      <td>1</td>\n",
       "      <td>3</td>\n",
       "      <td>Heikkinen, Miss. Laina</td>\n",
       "      <td>female</td>\n",
       "      <td>26.0</td>\n",
       "      <td>0</td>\n",
       "      <td>0</td>\n",
       "      <td>STON/O2. 3101282</td>\n",
       "      <td>7.9250</td>\n",
       "      <td>NaN</td>\n",
       "      <td>S</td>\n",
       "    </tr>\n",
       "    <tr>\n",
       "      <th>3</th>\n",
       "      <td>4</td>\n",
       "      <td>1</td>\n",
       "      <td>1</td>\n",
       "      <td>Futrelle, Mrs. Jacques Heath (Lily May Peel)</td>\n",
       "      <td>female</td>\n",
       "      <td>35.0</td>\n",
       "      <td>1</td>\n",
       "      <td>0</td>\n",
       "      <td>113803</td>\n",
       "      <td>53.1000</td>\n",
       "      <td>C123</td>\n",
       "      <td>S</td>\n",
       "    </tr>\n",
       "    <tr>\n",
       "      <th>4</th>\n",
       "      <td>5</td>\n",
       "      <td>0</td>\n",
       "      <td>3</td>\n",
       "      <td>Allen, Mr. William Henry</td>\n",
       "      <td>male</td>\n",
       "      <td>35.0</td>\n",
       "      <td>0</td>\n",
       "      <td>0</td>\n",
       "      <td>373450</td>\n",
       "      <td>8.0500</td>\n",
       "      <td>NaN</td>\n",
       "      <td>S</td>\n",
       "    </tr>\n",
       "  </tbody>\n",
       "</table>\n",
       "</div>"
      ],
      "text/plain": [
       "   PassengerId  Survived  Pclass  \\\n",
       "0            1         0       3   \n",
       "1            2         1       1   \n",
       "2            3         1       3   \n",
       "3            4         1       1   \n",
       "4            5         0       3   \n",
       "\n",
       "                                                Name     Sex   Age  SibSp  \\\n",
       "0                            Braund, Mr. Owen Harris    male  22.0      1   \n",
       "1  Cumings, Mrs. John Bradley (Florence Briggs Th...  female  38.0      1   \n",
       "2                             Heikkinen, Miss. Laina  female  26.0      0   \n",
       "3       Futrelle, Mrs. Jacques Heath (Lily May Peel)  female  35.0      1   \n",
       "4                           Allen, Mr. William Henry    male  35.0      0   \n",
       "\n",
       "   Parch            Ticket     Fare Cabin Embarked  \n",
       "0      0         A/5 21171   7.2500   NaN        S  \n",
       "1      0          PC 17599  71.2833   C85        C  \n",
       "2      0  STON/O2. 3101282   7.9250   NaN        S  \n",
       "3      0            113803  53.1000  C123        S  \n",
       "4      0            373450   8.0500   NaN        S  "
      ]
     },
     "execution_count": 2,
     "metadata": {},
     "output_type": "execute_result"
    }
   ],
   "source": [
    "\n",
    "# Importing the dataset\n",
    "dataset = pd.read_csv('titanic_train.csv')\n",
    "dataset.head()"
   ]
  },
  {
   "cell_type": "markdown",
   "metadata": {},
   "source": [
    "# Exploratory Data Analysis\n",
    "Missing Values"
   ]
  },
  {
   "cell_type": "code",
   "execution_count": 3,
   "metadata": {
    "scrolled": true
   },
   "outputs": [
    {
     "data": {
      "text/plain": [
       "PassengerId      0\n",
       "Survived         0\n",
       "Pclass           0\n",
       "Name             0\n",
       "Sex              0\n",
       "Age            177\n",
       "SibSp            0\n",
       "Parch            0\n",
       "Ticket           0\n",
       "Fare             0\n",
       "Cabin          687\n",
       "Embarked         2\n",
       "dtype: int64"
      ]
     },
     "execution_count": 3,
     "metadata": {},
     "output_type": "execute_result"
    }
   ],
   "source": [
    "dataset.isnull().sum()"
   ]
  },
  {
   "cell_type": "code",
   "execution_count": 6,
   "metadata": {
    "scrolled": true
   },
   "outputs": [
    {
     "data": {
      "text/plain": [
       "<matplotlib.axes._subplots.AxesSubplot at 0x7f72dae89d30>"
      ]
     },
     "execution_count": 6,
     "metadata": {},
     "output_type": "execute_result"
    },
    {
     "data": {
      "image/png": "[encoded data removed]",
      "text/plain": [
       "<Figure size 432x288 with 1 Axes>"
      ]
     },
     "metadata": {},
     "output_type": "display_data"
    }
   ],
   "source": [
    "#using countplot of seaborn,we are checking how many survived or died\n",
    "#0 denotes died,1 denotes survived\n",
    "sns.set_style('whitegrid')\n",
    "sns.countplot(x='Survived',data=dataset)"
   ]
  },
  {
   "cell_type": "code",
   "execution_count": 7,
   "metadata": {
    "scrolled": true
   },
   "outputs": [
    {
     "data": {
      "text/plain": [
       "<matplotlib.axes._subplots.AxesSubplot at 0x7f72dadd4fd0>"
      ]
     },
     "execution_count": 7,
     "metadata": {},
     "output_type": "execute_result"
    },
    {
     "data": {
      "image/png": "[encoded data removed]",
      "text/plain": [
       "<Figure size 432x288 with 1 Axes>"
      ]
     },
     "metadata": {},
     "output_type": "display_data"
    }
   ],
   "source": [
    "#plotting countplot on Survived ,and separating male and female on sex\n",
    "sns.set_style('whitegrid')\n",
    "sns.countplot(x='Survived',hue='Sex',data=dataset,palette='RdBu_r')"
   ]
  },
  {
   "cell_type": "code",
   "execution_count": 8,
   "metadata": {
    "scrolled": true
   },
   "outputs": [
    {
     "data": {
      "text/plain": [
       "<matplotlib.axes._subplots.AxesSubplot at 0x7f72da7674a8>"
      ]
     },
     "execution_count": 8,
     "metadata": {},
     "output_type": "execute_result"
    },
    {
     "data": {
      "image/png": "[encoded data removed]",
      "text/plain": [
       "<Figure size 432x288 with 1 Axes>"
      ]
     },
     "metadata": {},
     "output_type": "display_data"
    }
   ],
   "source": [
    "#plotting countplot on survived feature ,on Pclass features\n",
    "sns.set_style('whitegrid')\n",
    "sns.countplot(x='Survived',hue='Pclass',data=dataset,palette='rainbow')\n"
   ]
  },
  {
   "cell_type": "code",
   "execution_count": 10,
   "metadata": {
    "scrolled": true
   },
   "outputs": [
    {
     "data": {
      "text/plain": [
       "<matplotlib.axes._subplots.AxesSubplot at 0x7f72da6689e8>"
      ]
     },
     "execution_count": 10,
     "metadata": {},
     "output_type": "execute_result"
    },
    {
     "data": {
      "image/png": "[encoded data removed]",
      "text/plain": [
       "<Figure size 864x504 with 1 Axes>"
      ]
     },
     "metadata": {},
     "output_type": "display_data"
    }
   ],
   "source": [
    "plt.figure(figsize=(12, 7))\n",
    "#boxplot gives 25% percentile,50% percentile,75% percentile\n",
    "sns.boxplot(x='Pclass',y='Age',data=dataset,palette='winter')"
   ]
  },
  {
   "cell_type": "code",
   "execution_count": 11,
   "metadata": {},
   "outputs": [],
   "source": [
    "\n",
    "def impute_age(cols):\n",
    "    Age = cols[0]\n",
    "    Pclass = cols[1]\n",
    "    \n",
    "    if pd.isnull(Age):\n",
    "\n",
    "        if Pclass == 1:\n",
    "            return 37\n",
    "\n",
    "        elif Pclass == 2:\n",
    "            return 29\n",
    "\n",
    "        else:\n",
    "            return 24\n",
    "\n",
    "    else:\n",
    "        return Age"
   ]
  },
  {
   "cell_type": "code",
   "execution_count": 13,
   "metadata": {},
   "outputs": [],
   "source": [
    "dataset['Age'] = dataset[['Age','Pclass']].apply(impute_age,axis=1)"
   ]
  },
  {
   "cell_type": "code",
   "execution_count": 14,
   "metadata": {},
   "outputs": [],
   "source": [
    "dataset.drop('Cabin',axis=1,inplace=True)"
   ]
  },
  {
   "cell_type": "code",
   "execution_count": 16,
   "metadata": {
    "scrolled": true
   },
   "outputs": [
    {
     "data": {
      "text/html": [
       "<div>\n",
       "<style scoped>\n",
       "    .dataframe tbody tr th:only-of-type {\n",
       "        vertical-align: middle;\n",
       "    }\n",
       "\n",
       "    .dataframe tbody tr th {\n",
       "        vertical-align: top;\n",
       "    }\n",
       "\n",
       "    .dataframe thead th {\n",
       "        text-align: right;\n",
       "    }\n",
       "</style>\n",
       "<table border=\"1\" class=\"dataframe\">\n",
       "  <thead>\n",
       "    <tr style=\"text-align: right;\">\n",
       "      <th></th>\n",
       "      <th>PassengerId</th>\n",
       "      <th>Survived</th>\n",
       "      <th>Pclass</th>\n",
       "      <th>Name</th>\n",
       "      <th>Sex</th>\n",
       "      <th>Age</th>\n",
       "      <th>SibSp</th>\n",
       "      <th>Parch</th>\n",
       "      <th>Ticket</th>\n",
       "      <th>Fare</th>\n",
       "      <th>Embarked</th>\n",
       "    </tr>\n",
       "  </thead>\n",
       "  <tbody>\n",
       "    <tr>\n",
       "      <th>0</th>\n",
       "      <td>1</td>\n",
       "      <td>0</td>\n",
       "      <td>3</td>\n",
       "      <td>Braund, Mr. Owen Harris</td>\n",
       "      <td>male</td>\n",
       "      <td>22.0</td>\n",
       "      <td>1</td>\n",
       "      <td>0</td>\n",
       "      <td>A/5 21171</td>\n",
       "      <td>7.2500</td>\n",
       "      <td>S</td>\n",
       "    </tr>\n",
       "    <tr>\n",
       "      <th>1</th>\n",
       "      <td>2</td>\n",
       "      <td>1</td>\n",
       "      <td>1</td>\n",
       "      <td>Cumings, Mrs. John Bradley (Florence Briggs Th...</td>\n",
       "      <td>female</td>\n",
       "      <td>38.0</td>\n",
       "      <td>1</td>\n",
       "      <td>0</td>\n",
       "      <td>PC 17599</td>\n",
       "      <td>71.2833</td>\n",
       "      <td>C</td>\n",
       "    </tr>\n",
       "    <tr>\n",
       "      <th>2</th>\n",
       "      <td>3</td>\n",
       "      <td>1</td>\n",
       "      <td>3</td>\n",
       "      <td>Heikkinen, Miss. Laina</td>\n",
       "      <td>female</td>\n",
       "      <td>26.0</td>\n",
       "      <td>0</td>\n",
       "      <td>0</td>\n",
       "      <td>STON/O2. 3101282</td>\n",
       "      <td>7.9250</td>\n",
       "      <td>S</td>\n",
       "    </tr>\n",
       "    <tr>\n",
       "      <th>3</th>\n",
       "      <td>4</td>\n",
       "      <td>1</td>\n",
       "      <td>1</td>\n",
       "      <td>Futrelle, Mrs. Jacques Heath (Lily May Peel)</td>\n",
       "      <td>female</td>\n",
       "      <td>35.0</td>\n",
       "      <td>1</td>\n",
       "      <td>0</td>\n",
       "      <td>113803</td>\n",
       "      <td>53.1000</td>\n",
       "      <td>S</td>\n",
       "    </tr>\n",
       "    <tr>\n",
       "      <th>4</th>\n",
       "      <td>5</td>\n",
       "      <td>0</td>\n",
       "      <td>3</td>\n",
       "      <td>Allen, Mr. William Henry</td>\n",
       "      <td>male</td>\n",
       "      <td>35.0</td>\n",
       "      <td>0</td>\n",
       "      <td>0</td>\n",
       "      <td>373450</td>\n",
       "      <td>8.0500</td>\n",
       "      <td>S</td>\n",
       "    </tr>\n",
       "  </tbody>\n",
       "</table>\n",
       "</div>"
      ],
      "text/plain": [
       "   PassengerId  Survived  Pclass  \\\n",
       "0            1         0       3   \n",
       "1            2         1       1   \n",
       "2            3         1       3   \n",
       "3            4         1       1   \n",
       "4            5         0       3   \n",
       "\n",
       "                                                Name     Sex   Age  SibSp  \\\n",
       "0                            Braund, Mr. Owen Harris    male  22.0      1   \n",
       "1  Cumings, Mrs. John Bradley (Florence Briggs Th...  female  38.0      1   \n",
       "2                             Heikkinen, Miss. Laina  female  26.0      0   \n",
       "3       Futrelle, Mrs. Jacques Heath (Lily May Peel)  female  35.0      1   \n",
       "4                           Allen, Mr. William Henry    male  35.0      0   \n",
       "\n",
       "   Parch            Ticket     Fare Embarked  \n",
       "0      0         A/5 21171   7.2500        S  \n",
       "1      0          PC 17599  71.2833        C  \n",
       "2      0  STON/O2. 3101282   7.9250        S  \n",
       "3      0            113803  53.1000        S  \n",
       "4      0            373450   8.0500        S  "
      ]
     },
     "execution_count": 16,
     "metadata": {},
     "output_type": "execute_result"
    }
   ],
   "source": [
    "dataset.head()"
   ]
  },
  {
   "cell_type": "code",
   "execution_count": 18,
   "metadata": {},
   "outputs": [],
   "source": [
    "dataset.dropna(inplace=True)"
   ]
  },
  {
   "cell_type": "markdown",
   "metadata": {},
   "source": [
    "# Converting Categorical Features"
   ]
  },
  {
   "cell_type": "code",
   "execution_count": 20,
   "metadata": {
    "scrolled": true
   },
   "outputs": [
    {
     "name": "stdout",
     "output_type": "stream",
     "text": [
      "<class 'pandas.core.frame.DataFrame'>\n",
      "Int64Index: 889 entries, 0 to 890\n",
      "Data columns (total 11 columns):\n",
      " #   Column       Non-Null Count  Dtype  \n",
      "---  ------       --------------  -----  \n",
      " 0   PassengerId  889 non-null    int64  \n",
      " 1   Survived     889 non-null    int64  \n",
      " 2   Pclass       889 non-null    int64  \n",
      " 3   Name         889 non-null    object \n",
      " 4   Sex          889 non-null    object \n",
      " 5   Age          889 non-null    float64\n",
      " 6   SibSp        889 non-null    int64  \n",
      " 7   Parch        889 non-null    int64  \n",
      " 8   Ticket       889 non-null    object \n",
      " 9   Fare         889 non-null    float64\n",
      " 10  Embarked     889 non-null    object \n",
      "dtypes: float64(2), int64(5), object(4)\n",
      "memory usage: 83.3+ KB\n"
     ]
    }
   ],
   "source": [
    "\n",
    "dataset.info()"
   ]
  },
  {
   "cell_type": "code",
   "execution_count": 22,
   "metadata": {},
   "outputs": [],
   "source": [
    "sex = pd.get_dummies(dataset['Sex'],drop_first=True)\n",
    "embark = pd.get_dummies(dataset['Embarked'],drop_first=True)"
   ]
  },
  {
   "cell_type": "code",
   "execution_count": 23,
   "metadata": {},
   "outputs": [],
   "source": [
    "#we dont require Sex,Embarked,Name,Ticket columns from the dataset so we are dropping those columns\n",
    "#since Sex and Embarked are categorical features,so we are dropping these columns as we have already converted into \n",
    "#dummy variable\n",
    "dataset.drop(['Sex','Embarked','Name','Ticket'],axis=1,inplace=True)"
   ]
  },
  {
   "cell_type": "code",
   "execution_count": 24,
   "metadata": {},
   "outputs": [],
   "source": [
    "#we are concatenating sex and embark features with train data\n",
    "dataset= pd.concat([dataset,sex,embark],axis=1)"
   ]
  },
  {
   "cell_type": "code",
   "execution_count": 25,
   "metadata": {
    "scrolled": true
   },
   "outputs": [
    {
     "data": {
      "text/html": [
       "<div>\n",
       "<style scoped>\n",
       "    .dataframe tbody tr th:only-of-type {\n",
       "        vertical-align: middle;\n",
       "    }\n",
       "\n",
       "    .dataframe tbody tr th {\n",
       "        vertical-align: top;\n",
       "    }\n",
       "\n",
       "    .dataframe thead th {\n",
       "        text-align: right;\n",
       "    }\n",
       "</style>\n",
       "<table border=\"1\" class=\"dataframe\">\n",
       "  <thead>\n",
       "    <tr style=\"text-align: right;\">\n",
       "      <th></th>\n",
       "      <th>PassengerId</th>\n",
       "      <th>Survived</th>\n",
       "      <th>Pclass</th>\n",
       "      <th>Age</th>\n",
       "      <th>SibSp</th>\n",
       "      <th>Parch</th>\n",
       "      <th>Fare</th>\n",
       "      <th>male</th>\n",
       "      <th>Q</th>\n",
       "      <th>S</th>\n",
       "    </tr>\n",
       "  </thead>\n",
       "  <tbody>\n",
       "    <tr>\n",
       "      <th>0</th>\n",
       "      <td>1</td>\n",
       "      <td>0</td>\n",
       "      <td>3</td>\n",
       "      <td>22.0</td>\n",
       "      <td>1</td>\n",
       "      <td>0</td>\n",
       "      <td>7.2500</td>\n",
       "      <td>1</td>\n",
       "      <td>0</td>\n",
       "      <td>1</td>\n",
       "    </tr>\n",
       "    <tr>\n",
       "      <th>1</th>\n",
       "      <td>2</td>\n",
       "      <td>1</td>\n",
       "      <td>1</td>\n",
       "      <td>38.0</td>\n",
       "      <td>1</td>\n",
       "      <td>0</td>\n",
       "      <td>71.2833</td>\n",
       "      <td>0</td>\n",
       "      <td>0</td>\n",
       "      <td>0</td>\n",
       "    </tr>\n",
       "    <tr>\n",
       "      <th>2</th>\n",
       "      <td>3</td>\n",
       "      <td>1</td>\n",
       "      <td>3</td>\n",
       "      <td>26.0</td>\n",
       "      <td>0</td>\n",
       "      <td>0</td>\n",
       "      <td>7.9250</td>\n",
       "      <td>0</td>\n",
       "      <td>0</td>\n",
       "      <td>1</td>\n",
       "    </tr>\n",
       "    <tr>\n",
       "      <th>3</th>\n",
       "      <td>4</td>\n",
       "      <td>1</td>\n",
       "      <td>1</td>\n",
       "      <td>35.0</td>\n",
       "      <td>1</td>\n",
       "      <td>0</td>\n",
       "      <td>53.1000</td>\n",
       "      <td>0</td>\n",
       "      <td>0</td>\n",
       "      <td>1</td>\n",
       "    </tr>\n",
       "    <tr>\n",
       "      <th>4</th>\n",
       "      <td>5</td>\n",
       "      <td>0</td>\n",
       "      <td>3</td>\n",
       "      <td>35.0</td>\n",
       "      <td>0</td>\n",
       "      <td>0</td>\n",
       "      <td>8.0500</td>\n",
       "      <td>1</td>\n",
       "      <td>0</td>\n",
       "      <td>1</td>\n",
       "    </tr>\n",
       "  </tbody>\n",
       "</table>\n",
       "</div>"
      ],
      "text/plain": [
       "   PassengerId  Survived  Pclass   Age  SibSp  Parch     Fare  male  Q  S\n",
       "0            1         0       3  22.0      1      0   7.2500     1  0  1\n",
       "1            2         1       1  38.0      1      0  71.2833     0  0  0\n",
       "2            3         1       3  26.0      0      0   7.9250     0  0  1\n",
       "3            4         1       1  35.0      1      0  53.1000     0  0  1\n",
       "4            5         0       3  35.0      0      0   8.0500     1  0  1"
      ]
     },
     "execution_count": 25,
     "metadata": {},
     "output_type": "execute_result"
    }
   ],
   "source": [
    "dataset.head()"
   ]
  },
  {
   "cell_type": "code",
   "execution_count": 26,
   "metadata": {},
   "outputs": [],
   "source": [
    "from sklearn.model_selection import train_test_split"
   ]
  },
  {
   "cell_type": "code",
   "execution_count": 27,
   "metadata": {},
   "outputs": [],
   "source": [
    "#we are splitting dataset into 70%train set and 30%test set\n",
    "X_train, X_test, y_train, y_test = train_test_split(dataset.drop('Survived',axis=1), \n",
    "                                                    dataset['Survived'], test_size=0.30, \n",
    "                                                    random_state=101)"
   ]
  },
  {
   "cell_type": "code",
   "execution_count": 28,
   "metadata": {},
   "outputs": [],
   "source": [
    "# Feature Scaling\n",
    "from sklearn.preprocessing import StandardScaler\n",
    "sc = StandardScaler()\n",
    "X_train = sc.fit_transform(X_train)\n",
    "X_test = sc.transform(X_test)"
   ]
  },
  {
   "cell_type": "code",
   "execution_count": 29,
   "metadata": {
    "scrolled": false
   },
   "outputs": [
    {
     "name": "stderr",
     "output_type": "stream",
     "text": [
      "Using TensorFlow backend.\n",
      "/home/sakil/anaconda/lib/python3.7/site-packages/tensorflow/python/framework/dtypes.py:516: FutureWarning: Passing (type, 1) or '1type' as a synonym of type is deprecated; in a future version of numpy, it will be understood as (type, (1,)) / '(1,)type'.\n",
      "  _np_qint8 = np.dtype([(\"qint8\", np.int8, 1)])\n",
      "/home/sakil/anaconda/lib/python3.7/site-packages/tensorflow/python/framework/dtypes.py:517: FutureWarning: Passing (type, 1) or '1type' as a synonym of type is deprecated; in a future version of numpy, it will be understood as (type, (1,)) / '(1,)type'.\n",
      "  _np_quint8 = np.dtype([(\"quint8\", np.uint8, 1)])\n",
      "/home/sakil/anaconda/lib/python3.7/site-packages/tensorflow/python/framework/dtypes.py:518: FutureWarning: Passing (type, 1) or '1type' as a synonym of type is deprecated; in a future version of numpy, it will be understood as (type, (1,)) / '(1,)type'.\n",
      "  _np_qint16 = np.dtype([(\"qint16\", np.int16, 1)])\n",
      "/home/sakil/anaconda/lib/python3.7/site-packages/tensorflow/python/framework/dtypes.py:519: FutureWarning: Passing (type, 1) or '1type' as a synonym of type is deprecated; in a future version of numpy, it will be understood as (type, (1,)) / '(1,)type'.\n",
      "  _np_quint16 = np.dtype([(\"quint16\", np.uint16, 1)])\n",
      "/home/sakil/anaconda/lib/python3.7/site-packages/tensorflow/python/framework/dtypes.py:520: FutureWarning: Passing (type, 1) or '1type' as a synonym of type is deprecated; in a future version of numpy, it will be understood as (type, (1,)) / '(1,)type'.\n",
      "  _np_qint32 = np.dtype([(\"qint32\", np.int32, 1)])\n",
      "/home/sakil/anaconda/lib/python3.7/site-packages/tensorflow/python/framework/dtypes.py:525: FutureWarning: Passing (type, 1) or '1type' as a synonym of type is deprecated; in a future version of numpy, it will be understood as (type, (1,)) / '(1,)type'.\n",
      "  np_resource = np.dtype([(\"resource\", np.ubyte, 1)])\n",
      "/home/sakil/anaconda/lib/python3.7/site-packages/tensorboard/compat/tensorflow_stub/dtypes.py:541: FutureWarning: Passing (type, 1) or '1type' as a synonym of type is deprecated; in a future version of numpy, it will be understood as (type, (1,)) / '(1,)type'.\n",
      "  _np_qint8 = np.dtype([(\"qint8\", np.int8, 1)])\n",
      "/home/sakil/anaconda/lib/python3.7/site-packages/tensorboard/compat/tensorflow_stub/dtypes.py:542: FutureWarning: Passing (type, 1) or '1type' as a synonym of type is deprecated; in a future version of numpy, it will be understood as (type, (1,)) / '(1,)type'.\n",
      "  _np_quint8 = np.dtype([(\"quint8\", np.uint8, 1)])\n",
      "/home/sakil/anaconda/lib/python3.7/site-packages/tensorboard/compat/tensorflow_stub/dtypes.py:543: FutureWarning: Passing (type, 1) or '1type' as a synonym of type is deprecated; in a future version of numpy, it will be understood as (type, (1,)) / '(1,)type'.\n",
      "  _np_qint16 = np.dtype([(\"qint16\", np.int16, 1)])\n",
      "/home/sakil/anaconda/lib/python3.7/site-packages/tensorboard/compat/tensorflow_stub/dtypes.py:544: FutureWarning: Passing (type, 1) or '1type' as a synonym of type is deprecated; in a future version of numpy, it will be understood as (type, (1,)) / '(1,)type'.\n",
      "  _np_quint16 = np.dtype([(\"quint16\", np.uint16, 1)])\n",
      "/home/sakil/anaconda/lib/python3.7/site-packages/tensorboard/compat/tensorflow_stub/dtypes.py:545: FutureWarning: Passing (type, 1) or '1type' as a synonym of type is deprecated; in a future version of numpy, it will be understood as (type, (1,)) / '(1,)type'.\n",
      "  _np_qint32 = np.dtype([(\"qint32\", np.int32, 1)])\n",
      "/home/sakil/anaconda/lib/python3.7/site-packages/tensorboard/compat/tensorflow_stub/dtypes.py:550: FutureWarning: Passing (type, 1) or '1type' as a synonym of type is deprecated; in a future version of numpy, it will be understood as (type, (1,)) / '(1,)type'.\n",
      "  np_resource = np.dtype([(\"resource\", np.ubyte, 1)])\n"
     ]
    }
   ],
   "source": [
    "# Part 2 - Now let's make the ANN!\n",
    "\n",
    "# Importing the Keras libraries and packages\n",
    "#Dense is used for creating layers in deep learning\n",
    "import keras\n",
    "from keras.models import Sequential\n",
    "from keras.layers import Dense\n",
    "from keras.layers import LeakyReLU,PReLU,ELU\n",
    "from keras.layers import Dropout"
   ]
  },
  {
   "cell_type": "code",
   "execution_count": 31,
   "metadata": {},
   "outputs": [
    {
     "data": {
      "text/plain": [
       "9"
      ]
     },
     "execution_count": 31,
     "metadata": {},
     "output_type": "execute_result"
    }
   ],
   "source": [
    "X_train.shape[1]"
   ]
  },
  {
   "cell_type": "code",
   "execution_count": 30,
   "metadata": {},
   "outputs": [],
   "source": [
    "# Initialising the ANN\n",
    "classifier = Sequential()"
   ]
  },
  {
   "cell_type": "code",
   "execution_count": 32,
   "metadata": {
    "scrolled": true
   },
   "outputs": [
    {
     "name": "stderr",
     "output_type": "stream",
     "text": [
      "/home/sakil/anaconda/lib/python3.7/site-packages/ipykernel_launcher.py:4: UserWarning: Update your `Dense` call to the Keras 2 API: `Dense(activation=\"relu\", input_dim=9, units=6, kernel_initializer=\"he_uniform\")`\n",
      "  after removing the cwd from sys.path.\n"
     ]
    }
   ],
   "source": [
    "# Adding the input layer and the first hidden layer\n",
    "#we are giving output_dim=6,input_dim=11 as we have 11 input features\n",
    "#we are using init='he_uniform'initialization,we are using activation='relu',generally relu performs well\n",
    "classifier.add(Dense(output_dim = 6, init = 'he_uniform',activation='relu',input_dim = X_train.shape[1]))"
   ]
  },
  {
   "cell_type": "code",
   "execution_count": 33,
   "metadata": {
    "scrolled": true
   },
   "outputs": [
    {
     "name": "stderr",
     "output_type": "stream",
     "text": [
      "/home/sakil/anaconda/lib/python3.7/site-packages/ipykernel_launcher.py:2: UserWarning: Update your `Dense` call to the Keras 2 API: `Dense(activation=\"relu\", units=6, kernel_initializer=\"he_uniform\")`\n",
      "  \n"
     ]
    }
   ],
   "source": [
    "# Adding the second hidden layer\n",
    "classifier.add(Dense(output_dim = 6, init = 'he_uniform',activation='relu'))"
   ]
  },
  {
   "cell_type": "code",
   "execution_count": 34,
   "metadata": {
    "scrolled": true
   },
   "outputs": [
    {
     "name": "stderr",
     "output_type": "stream",
     "text": [
      "/home/sakil/anaconda/lib/python3.7/site-packages/ipykernel_launcher.py:4: UserWarning: Update your `Dense` call to the Keras 2 API: `Dense(activation=\"sigmoid\", units=1, kernel_initializer=\"glorot_uniform\")`\n",
      "  after removing the cwd from sys.path.\n"
     ]
    }
   ],
   "source": [
    "# Adding the output layer\n",
    "#as output layer will be 1 so we are using output_dim=1\n",
    "#In output layer case , we are using activation function=sigmoid\n",
    "classifier.add(Dense(output_dim = 1, init = 'glorot_uniform', activation = 'sigmoid'))"
   ]
  },
  {
   "cell_type": "code",
   "execution_count": 35,
   "metadata": {
    "scrolled": true
   },
   "outputs": [
    {
     "name": "stdout",
     "output_type": "stream",
     "text": [
      "WARNING:tensorflow:From /home/sakil/anaconda/lib/python3.7/site-packages/tensorflow/python/ops/nn_impl.py:180: add_dispatch_support.<locals>.wrapper (from tensorflow.python.ops.array_ops) is deprecated and will be removed in a future version.\n",
      "Instructions for updating:\n",
      "Use tf.where in 2.0, which has the same broadcast rule as np.where\n"
     ]
    }
   ],
   "source": [
    "# Compiling the ANN\n",
    "#here we are uisng opimizer=Adamax,loss=binary_crossentropy as it is binary classification\n",
    "#metrics=accuracy\n",
    "classifier.compile(optimizer = 'Adamax', loss = 'binary_crossentropy', metrics = ['accuracy'])"
   ]
  },
  {
   "cell_type": "code",
   "execution_count": 36,
   "metadata": {
    "scrolled": false
   },
   "outputs": [
    {
     "name": "stderr",
     "output_type": "stream",
     "text": [
      "/home/sakil/anaconda/lib/python3.7/site-packages/ipykernel_launcher.py:3: UserWarning: The `nb_epoch` argument in `fit` has been renamed `epochs`.\n",
      "  This is separate from the ipykernel package so we can avoid doing imports until\n"
     ]
    },
    {
     "name": "stdout",
     "output_type": "stream",
     "text": [
      "WARNING:tensorflow:From /home/sakil/anaconda/lib/python3.7/site-packages/keras/backend/tensorflow_backend.py:422: The name tf.global_variables is deprecated. Please use tf.compat.v1.global_variables instead.\n",
      "\n",
      "Train on 416 samples, validate on 206 samples\n",
      "Epoch 1/100\n",
      "416/416 [==============================] - 1s 3ms/step - loss: 0.6374 - accuracy: 0.6346 - val_loss: 0.6242 - val_accuracy: 0.6699\n",
      "Epoch 2/100\n",
      "416/416 [==============================] - 0s 328us/step - loss: 0.6218 - accuracy: 0.6707 - val_loss: 0.6148 - val_accuracy: 0.6893\n",
      "Epoch 3/100\n",
      "416/416 [==============================] - 0s 325us/step - loss: 0.6099 - accuracy: 0.6755 - val_loss: 0.6062 - val_accuracy: 0.6990\n",
      "Epoch 4/100\n",
      "416/416 [==============================] - 0s 361us/step - loss: 0.5986 - accuracy: 0.6827 - val_loss: 0.5965 - val_accuracy: 0.6990\n",
      "Epoch 5/100\n",
      "416/416 [==============================] - 0s 526us/step - loss: 0.5873 - accuracy: 0.6803 - val_loss: 0.5869 - val_accuracy: 0.7039\n",
      "Epoch 6/100\n",
      "416/416 [==============================] - 0s 388us/step - loss: 0.5761 - accuracy: 0.6923 - val_loss: 0.5786 - val_accuracy: 0.7136\n",
      "Epoch 7/100\n",
      "416/416 [==============================] - 0s 370us/step - loss: 0.5657 - accuracy: 0.7067 - val_loss: 0.5700 - val_accuracy: 0.7282\n",
      "Epoch 8/100\n",
      "416/416 [==============================] - 0s 364us/step - loss: 0.5561 - accuracy: 0.7115 - val_loss: 0.5614 - val_accuracy: 0.7330\n",
      "Epoch 9/100\n",
      "416/416 [==============================] - 0s 325us/step - loss: 0.5464 - accuracy: 0.7356 - val_loss: 0.5543 - val_accuracy: 0.7427\n",
      "Epoch 10/100\n",
      "416/416 [==============================] - 0s 347us/step - loss: 0.5377 - accuracy: 0.7452 - val_loss: 0.5457 - val_accuracy: 0.7524\n",
      "Epoch 11/100\n",
      "416/416 [==============================] - 0s 360us/step - loss: 0.5292 - accuracy: 0.7572 - val_loss: 0.5390 - val_accuracy: 0.7524\n",
      "Epoch 12/100\n",
      "416/416 [==============================] - 0s 374us/step - loss: 0.5220 - accuracy: 0.7572 - val_loss: 0.5325 - val_accuracy: 0.7524\n",
      "Epoch 13/100\n",
      "416/416 [==============================] - 0s 344us/step - loss: 0.5161 - accuracy: 0.7572 - val_loss: 0.5263 - val_accuracy: 0.7621\n",
      "Epoch 14/100\n",
      "416/416 [==============================] - 0s 380us/step - loss: 0.5096 - accuracy: 0.7572 - val_loss: 0.5212 - val_accuracy: 0.7621\n",
      "Epoch 15/100\n",
      "416/416 [==============================] - 0s 364us/step - loss: 0.5046 - accuracy: 0.7596 - val_loss: 0.5165 - val_accuracy: 0.7670\n",
      "Epoch 16/100\n",
      "416/416 [==============================] - 0s 382us/step - loss: 0.4999 - accuracy: 0.7692 - val_loss: 0.5117 - val_accuracy: 0.7621\n",
      "Epoch 17/100\n",
      "416/416 [==============================] - 0s 416us/step - loss: 0.4949 - accuracy: 0.7692 - val_loss: 0.5075 - val_accuracy: 0.7621\n",
      "Epoch 18/100\n",
      "416/416 [==============================] - 0s 525us/step - loss: 0.4906 - accuracy: 0.7716 - val_loss: 0.5038 - val_accuracy: 0.7573\n",
      "Epoch 19/100\n",
      "416/416 [==============================] - 0s 383us/step - loss: 0.4876 - accuracy: 0.7740 - val_loss: 0.5004 - val_accuracy: 0.7621\n",
      "Epoch 20/100\n",
      "416/416 [==============================] - 0s 359us/step - loss: 0.4838 - accuracy: 0.7788 - val_loss: 0.4982 - val_accuracy: 0.7573\n",
      "Epoch 21/100\n",
      "416/416 [==============================] - 0s 414us/step - loss: 0.4809 - accuracy: 0.7861 - val_loss: 0.4952 - val_accuracy: 0.7621\n",
      "Epoch 22/100\n",
      "416/416 [==============================] - 0s 438us/step - loss: 0.4785 - accuracy: 0.7837 - val_loss: 0.4932 - val_accuracy: 0.7573\n",
      "Epoch 23/100\n",
      "416/416 [==============================] - 0s 332us/step - loss: 0.4759 - accuracy: 0.7837 - val_loss: 0.4906 - val_accuracy: 0.7573\n",
      "Epoch 24/100\n",
      "416/416 [==============================] - 0s 365us/step - loss: 0.4735 - accuracy: 0.7885 - val_loss: 0.4889 - val_accuracy: 0.7621\n",
      "Epoch 25/100\n",
      "416/416 [==============================] - 0s 450us/step - loss: 0.4714 - accuracy: 0.7909 - val_loss: 0.4872 - val_accuracy: 0.7670\n",
      "Epoch 26/100\n",
      "416/416 [==============================] - 0s 405us/step - loss: 0.4695 - accuracy: 0.8005 - val_loss: 0.4855 - val_accuracy: 0.7718\n",
      "Epoch 27/100\n",
      "416/416 [==============================] - 0s 360us/step - loss: 0.4679 - accuracy: 0.7957 - val_loss: 0.4842 - val_accuracy: 0.7718\n",
      "Epoch 28/100\n",
      "416/416 [==============================] - 0s 498us/step - loss: 0.4661 - accuracy: 0.7957 - val_loss: 0.4826 - val_accuracy: 0.7767\n",
      "Epoch 29/100\n",
      "416/416 [==============================] - 0s 463us/step - loss: 0.4649 - accuracy: 0.7957 - val_loss: 0.4810 - val_accuracy: 0.7718\n",
      "Epoch 30/100\n",
      "416/416 [==============================] - 0s 362us/step - loss: 0.4633 - accuracy: 0.7957 - val_loss: 0.4796 - val_accuracy: 0.7767\n",
      "Epoch 31/100\n",
      "416/416 [==============================] - 0s 377us/step - loss: 0.4627 - accuracy: 0.7909 - val_loss: 0.4785 - val_accuracy: 0.7767\n",
      "Epoch 32/100\n",
      "416/416 [==============================] - 0s 390us/step - loss: 0.4614 - accuracy: 0.7957 - val_loss: 0.4773 - val_accuracy: 0.7864\n",
      "Epoch 33/100\n",
      "416/416 [==============================] - 0s 489us/step - loss: 0.4599 - accuracy: 0.7957 - val_loss: 0.4760 - val_accuracy: 0.7913\n",
      "Epoch 34/100\n",
      "416/416 [==============================] - 0s 350us/step - loss: 0.4587 - accuracy: 0.7933 - val_loss: 0.4752 - val_accuracy: 0.7864\n",
      "Epoch 35/100\n",
      "416/416 [==============================] - 0s 423us/step - loss: 0.4578 - accuracy: 0.7957 - val_loss: 0.4741 - val_accuracy: 0.7913\n",
      "Epoch 36/100\n",
      "416/416 [==============================] - 0s 399us/step - loss: 0.4564 - accuracy: 0.7981 - val_loss: 0.4732 - val_accuracy: 0.7961\n",
      "Epoch 37/100\n",
      "416/416 [==============================] - 0s 401us/step - loss: 0.4563 - accuracy: 0.7957 - val_loss: 0.4717 - val_accuracy: 0.8058\n",
      "Epoch 38/100\n",
      "416/416 [==============================] - 0s 385us/step - loss: 0.4571 - accuracy: 0.7981 - val_loss: 0.4716 - val_accuracy: 0.8107\n",
      "Epoch 39/100\n",
      "416/416 [==============================] - 0s 384us/step - loss: 0.4537 - accuracy: 0.7933 - val_loss: 0.4706 - val_accuracy: 0.8204\n",
      "Epoch 40/100\n",
      "416/416 [==============================] - 0s 411us/step - loss: 0.4528 - accuracy: 0.8005 - val_loss: 0.4701 - val_accuracy: 0.8252\n",
      "Epoch 41/100\n",
      "416/416 [==============================] - 0s 503us/step - loss: 0.4517 - accuracy: 0.7957 - val_loss: 0.4693 - val_accuracy: 0.8155\n",
      "Epoch 42/100\n",
      "416/416 [==============================] - 0s 389us/step - loss: 0.4511 - accuracy: 0.8029 - val_loss: 0.4683 - val_accuracy: 0.8204\n",
      "Epoch 43/100\n",
      "416/416 [==============================] - 0s 379us/step - loss: 0.4501 - accuracy: 0.8005 - val_loss: 0.4682 - val_accuracy: 0.8107\n",
      "Epoch 44/100\n",
      "416/416 [==============================] - 0s 377us/step - loss: 0.4495 - accuracy: 0.8053 - val_loss: 0.4683 - val_accuracy: 0.8107\n",
      "Epoch 45/100\n",
      "416/416 [==============================] - 0s 391us/step - loss: 0.4483 - accuracy: 0.8053 - val_loss: 0.4673 - val_accuracy: 0.8107\n",
      "Epoch 46/100\n",
      "416/416 [==============================] - 0s 364us/step - loss: 0.4476 - accuracy: 0.8005 - val_loss: 0.4661 - val_accuracy: 0.8204\n",
      "Epoch 47/100\n",
      "416/416 [==============================] - 0s 384us/step - loss: 0.4465 - accuracy: 0.7981 - val_loss: 0.4661 - val_accuracy: 0.8155\n",
      "Epoch 48/100\n",
      "416/416 [==============================] - 0s 399us/step - loss: 0.4459 - accuracy: 0.8005 - val_loss: 0.4658 - val_accuracy: 0.8155\n",
      "Epoch 49/100\n",
      "416/416 [==============================] - 0s 410us/step - loss: 0.4455 - accuracy: 0.8029 - val_loss: 0.4662 - val_accuracy: 0.8155\n",
      "Epoch 50/100\n",
      "416/416 [==============================] - 0s 314us/step - loss: 0.4443 - accuracy: 0.8005 - val_loss: 0.4653 - val_accuracy: 0.8155\n",
      "Epoch 51/100\n",
      "416/416 [==============================] - 0s 375us/step - loss: 0.4438 - accuracy: 0.8101 - val_loss: 0.4651 - val_accuracy: 0.8155\n",
      "Epoch 52/100\n",
      "416/416 [==============================] - 0s 383us/step - loss: 0.4431 - accuracy: 0.8053 - val_loss: 0.4645 - val_accuracy: 0.8155\n",
      "Epoch 53/100\n",
      "416/416 [==============================] - 0s 371us/step - loss: 0.4424 - accuracy: 0.8077 - val_loss: 0.4647 - val_accuracy: 0.8155\n",
      "Epoch 54/100\n",
      "416/416 [==============================] - 0s 465us/step - loss: 0.4422 - accuracy: 0.8053 - val_loss: 0.4642 - val_accuracy: 0.8155\n",
      "Epoch 55/100\n",
      "416/416 [==============================] - 0s 463us/step - loss: 0.4410 - accuracy: 0.8077 - val_loss: 0.4647 - val_accuracy: 0.8155\n",
      "Epoch 56/100\n",
      "416/416 [==============================] - 0s 444us/step - loss: 0.4406 - accuracy: 0.8077 - val_loss: 0.4637 - val_accuracy: 0.8155\n",
      "Epoch 57/100\n",
      "416/416 [==============================] - 0s 437us/step - loss: 0.4401 - accuracy: 0.8053 - val_loss: 0.4637 - val_accuracy: 0.8155\n",
      "Epoch 58/100\n",
      "416/416 [==============================] - 0s 490us/step - loss: 0.4393 - accuracy: 0.8029 - val_loss: 0.4639 - val_accuracy: 0.8155\n",
      "Epoch 59/100\n",
      "416/416 [==============================] - 0s 439us/step - loss: 0.4390 - accuracy: 0.8077 - val_loss: 0.4631 - val_accuracy: 0.8155\n",
      "Epoch 60/100\n",
      "416/416 [==============================] - 0s 552us/step - loss: 0.4385 - accuracy: 0.8005 - val_loss: 0.4622 - val_accuracy: 0.8155\n",
      "Epoch 61/100\n",
      "416/416 [==============================] - 0s 471us/step - loss: 0.4375 - accuracy: 0.8077 - val_loss: 0.4622 - val_accuracy: 0.8155\n",
      "Epoch 62/100\n",
      "416/416 [==============================] - 0s 496us/step - loss: 0.4369 - accuracy: 0.8029 - val_loss: 0.4623 - val_accuracy: 0.8058\n",
      "Epoch 63/100\n",
      "416/416 [==============================] - 0s 468us/step - loss: 0.4363 - accuracy: 0.8101 - val_loss: 0.4616 - val_accuracy: 0.8155\n",
      "Epoch 64/100\n",
      "416/416 [==============================] - 0s 563us/step - loss: 0.4359 - accuracy: 0.8029 - val_loss: 0.4618 - val_accuracy: 0.8155\n",
      "Epoch 65/100\n",
      "416/416 [==============================] - 0s 547us/step - loss: 0.4350 - accuracy: 0.8053 - val_loss: 0.4620 - val_accuracy: 0.8107\n",
      "Epoch 66/100\n",
      "416/416 [==============================] - 0s 526us/step - loss: 0.4339 - accuracy: 0.8125 - val_loss: 0.4614 - val_accuracy: 0.8107\n",
      "Epoch 67/100\n",
      "416/416 [==============================] - 0s 467us/step - loss: 0.4338 - accuracy: 0.8101 - val_loss: 0.4614 - val_accuracy: 0.8107\n",
      "Epoch 68/100\n",
      "416/416 [==============================] - 0s 534us/step - loss: 0.4333 - accuracy: 0.8173 - val_loss: 0.4615 - val_accuracy: 0.8058\n",
      "Epoch 69/100\n",
      "416/416 [==============================] - 0s 469us/step - loss: 0.4324 - accuracy: 0.8149 - val_loss: 0.4610 - val_accuracy: 0.8058\n",
      "Epoch 70/100\n",
      "416/416 [==============================] - 0s 506us/step - loss: 0.4322 - accuracy: 0.8077 - val_loss: 0.4604 - val_accuracy: 0.8010\n",
      "Epoch 71/100\n",
      "416/416 [==============================] - 0s 591us/step - loss: 0.4314 - accuracy: 0.8101 - val_loss: 0.4603 - val_accuracy: 0.8058\n",
      "Epoch 72/100\n",
      "416/416 [==============================] - 0s 421us/step - loss: 0.4309 - accuracy: 0.8101 - val_loss: 0.4609 - val_accuracy: 0.8058\n",
      "Epoch 73/100\n",
      "416/416 [==============================] - 0s 430us/step - loss: 0.4304 - accuracy: 0.8149 - val_loss: 0.4613 - val_accuracy: 0.8058\n",
      "Epoch 74/100\n",
      "416/416 [==============================] - 0s 496us/step - loss: 0.4295 - accuracy: 0.8149 - val_loss: 0.4607 - val_accuracy: 0.8058\n",
      "Epoch 75/100\n",
      "416/416 [==============================] - 0s 455us/step - loss: 0.4291 - accuracy: 0.8173 - val_loss: 0.4604 - val_accuracy: 0.8058\n",
      "Epoch 76/100\n",
      "416/416 [==============================] - 0s 576us/step - loss: 0.4286 - accuracy: 0.8149 - val_loss: 0.4605 - val_accuracy: 0.8010\n",
      "Epoch 77/100\n",
      "416/416 [==============================] - 0s 448us/step - loss: 0.4276 - accuracy: 0.8149 - val_loss: 0.4608 - val_accuracy: 0.8058\n",
      "Epoch 78/100\n",
      "416/416 [==============================] - 0s 494us/step - loss: 0.4273 - accuracy: 0.8149 - val_loss: 0.4607 - val_accuracy: 0.8010\n",
      "Epoch 79/100\n",
      "416/416 [==============================] - 0s 436us/step - loss: 0.4267 - accuracy: 0.8173 - val_loss: 0.4601 - val_accuracy: 0.8010\n",
      "Epoch 80/100\n",
      "416/416 [==============================] - 0s 501us/step - loss: 0.4261 - accuracy: 0.8173 - val_loss: 0.4602 - val_accuracy: 0.8010\n",
      "Epoch 81/100\n",
      "416/416 [==============================] - 0s 616us/step - loss: 0.4257 - accuracy: 0.8149 - val_loss: 0.4599 - val_accuracy: 0.8010\n",
      "Epoch 82/100\n",
      "416/416 [==============================] - 0s 421us/step - loss: 0.4255 - accuracy: 0.8149 - val_loss: 0.4600 - val_accuracy: 0.8010\n",
      "Epoch 83/100\n",
      "416/416 [==============================] - 0s 514us/step - loss: 0.4249 - accuracy: 0.8149 - val_loss: 0.4602 - val_accuracy: 0.8058\n",
      "Epoch 84/100\n",
      "416/416 [==============================] - 0s 460us/step - loss: 0.4246 - accuracy: 0.8173 - val_loss: 0.4602 - val_accuracy: 0.8010\n",
      "Epoch 85/100\n",
      "416/416 [==============================] - 0s 510us/step - loss: 0.4243 - accuracy: 0.8149 - val_loss: 0.4601 - val_accuracy: 0.8010\n",
      "Epoch 86/100\n",
      "416/416 [==============================] - 0s 388us/step - loss: 0.4237 - accuracy: 0.8197 - val_loss: 0.4599 - val_accuracy: 0.8155\n",
      "Epoch 87/100\n",
      "416/416 [==============================] - 0s 413us/step - loss: 0.4232 - accuracy: 0.8173 - val_loss: 0.4599 - val_accuracy: 0.8107\n",
      "Epoch 88/100\n",
      "416/416 [==============================] - 0s 466us/step - loss: 0.4224 - accuracy: 0.8173 - val_loss: 0.4600 - val_accuracy: 0.8155\n",
      "Epoch 89/100\n",
      "416/416 [==============================] - 0s 379us/step - loss: 0.4220 - accuracy: 0.8221 - val_loss: 0.4599 - val_accuracy: 0.8204\n",
      "Epoch 90/100\n",
      "416/416 [==============================] - 0s 571us/step - loss: 0.4217 - accuracy: 0.8197 - val_loss: 0.4598 - val_accuracy: 0.8204\n",
      "Epoch 91/100\n",
      "416/416 [==============================] - 0s 597us/step - loss: 0.4214 - accuracy: 0.8197 - val_loss: 0.4607 - val_accuracy: 0.8155\n",
      "Epoch 92/100\n",
      "416/416 [==============================] - 0s 526us/step - loss: 0.4208 - accuracy: 0.8197 - val_loss: 0.4605 - val_accuracy: 0.8155\n",
      "Epoch 93/100\n",
      "416/416 [==============================] - 0s 508us/step - loss: 0.4207 - accuracy: 0.8197 - val_loss: 0.4602 - val_accuracy: 0.8107\n",
      "Epoch 94/100\n",
      "416/416 [==============================] - 0s 535us/step - loss: 0.4201 - accuracy: 0.8197 - val_loss: 0.4600 - val_accuracy: 0.8204\n",
      "Epoch 95/100\n",
      "416/416 [==============================] - 0s 520us/step - loss: 0.4194 - accuracy: 0.8173 - val_loss: 0.4600 - val_accuracy: 0.8155\n",
      "Epoch 96/100\n",
      "416/416 [==============================] - 0s 516us/step - loss: 0.4190 - accuracy: 0.8125 - val_loss: 0.4599 - val_accuracy: 0.8204\n",
      "Epoch 97/100\n",
      "416/416 [==============================] - 0s 632us/step - loss: 0.4193 - accuracy: 0.8149 - val_loss: 0.4605 - val_accuracy: 0.8204\n",
      "Epoch 98/100\n",
      "416/416 [==============================] - 0s 560us/step - loss: 0.4184 - accuracy: 0.8149 - val_loss: 0.4601 - val_accuracy: 0.8155\n",
      "Epoch 99/100\n",
      "416/416 [==============================] - 0s 621us/step - loss: 0.4180 - accuracy: 0.8149 - val_loss: 0.4602 - val_accuracy: 0.8155\n",
      "Epoch 100/100\n",
      "416/416 [==============================] - 0s 554us/step - loss: 0.4178 - accuracy: 0.8173 - val_loss: 0.4599 - val_accuracy: 0.8204\n"
     ]
    }
   ],
   "source": [
    "\n",
    "# Fitting the ANN to the Training set\n",
    "#we are making model\n",
    "model_history=classifier.fit(X_train, y_train,validation_split=0.33, batch_size = 10, nb_epoch = 100)"
   ]
  },
  {
   "cell_type": "code",
   "execution_count": 37,
   "metadata": {},
   "outputs": [
    {
     "name": "stdout",
     "output_type": "stream",
     "text": [
      "dict_keys(['val_loss', 'val_accuracy', 'loss', 'accuracy'])\n"
     ]
    }
   ],
   "source": [
    "# list all data in history\n",
    "\n",
    "print(model_history.history.keys())"
   ]
  },
  {
   "cell_type": "code",
   "execution_count": 38,
   "metadata": {
    "scrolled": true
   },
   "outputs": [
    {
     "data": {
      "image/png": "[encoded data removed]",
      "text/plain": [
       "<Figure size 432x288 with 1 Axes>"
      ]
     },
     "metadata": {},
     "output_type": "display_data"
    }
   ],
   "source": [
    "# summarize history for accuracy\n",
    "plt.plot(model_history.history['accuracy'])\n",
    "plt.plot(model_history.history['val_accuracy'])\n",
    "plt.title('model accuracy')\n",
    "plt.ylabel('accuracy')\n",
    "plt.xlabel('epoch')\n",
    "plt.legend(['train', 'test'], loc='upper left')\n",
    "plt.show()"
   ]
  },
  {
   "cell_type": "code",
   "execution_count": 39,
   "metadata": {
    "scrolled": true
   },
   "outputs": [
    {
     "data": {
      "image/png": "[encoded data removed]",
      "text/plain": [
       "<Figure size 432x288 with 1 Axes>"
      ]
     },
     "metadata": {},
     "output_type": "display_data"
    }
   ],
   "source": [
    "# summarize history for loss\n",
    "plt.plot(model_history.history['loss'])\n",
    "plt.plot(model_history.history['val_loss'])\n",
    "plt.title('model loss')\n",
    "plt.ylabel('loss')\n",
    "plt.xlabel('epoch')\n",
    "plt.legend(['train', 'test'], loc='upper left')\n",
    "plt.show()"
   ]
  },
  {
   "cell_type": "code",
   "execution_count": 40,
   "metadata": {},
   "outputs": [],
   "source": [
    "# Part 3 - Making the predictions and evaluating the model\n",
    "\n",
    "# Predicting the Test set results\n",
    "y_pred = classifier.predict(X_test)\n",
    "y_pred = (y_pred > 0.5)"
   ]
  },
  {
   "cell_type": "code",
   "execution_count": 41,
   "metadata": {},
   "outputs": [],
   "source": [
    "# Making the Confusion Matrix\n",
    "from sklearn.metrics import confusion_matrix\n",
    "cm = confusion_matrix(y_test, y_pred)"
   ]
  },
  {
   "cell_type": "code",
   "execution_count": 44,
   "metadata": {},
   "outputs": [
    {
     "data": {
      "text/plain": [
       "array([[143,  20],\n",
       "       [ 34,  70]])"
      ]
     },
     "execution_count": 44,
     "metadata": {},
     "output_type": "execute_result"
    }
   ],
   "source": [
    "cm"
   ]
  },
  {
   "cell_type": "code",
   "execution_count": 42,
   "metadata": {},
   "outputs": [],
   "source": [
    "# Calculate the Accuracy\n",
    "from sklearn.metrics import accuracy_score\n",
    "score=accuracy_score(y_pred,y_test)"
   ]
  },
  {
   "cell_type": "code",
   "execution_count": 43,
   "metadata": {},
   "outputs": [
    {
     "data": {
      "text/plain": [
       "0.797752808988764"
      ]
     },
     "execution_count": 43,
     "metadata": {},
     "output_type": "execute_result"
    }
   ],
   "source": [
    "score"
   ]
  }
 ],
 "metadata": {
  "kernelspec": {
   "display_name": "Python 3",
   "language": "python",
   "name": "python3"
  },
  "language_info": {
   "codemirror_mode": {
    "name": "ipython",
    "version": 3
   },
   "file_extension": ".py",
   "mimetype": "text/x-python",
   "name": "python",
   "nbconvert_exporter": "python",
   "pygments_lexer": "ipython3",
   "version": "3.7.3"
  }
 },
 "nbformat": 4,
 "nbformat_minor": 2
}
