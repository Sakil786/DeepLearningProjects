{
 "cells": [
  {
   "cell_type": "markdown",
   "metadata": {},
   "source": [
    "This is the first deep learning project.In this notebook , I am going to implement AA from the scratch"
   ]
  },
  {
   "cell_type": "code",
   "execution_count": 1,
   "metadata": {},
   "outputs": [],
   "source": [
    "# Artificial Neural Network\n",
    "\n",
    "\n",
    "# Part 1 - Data Preprocessing\n",
    "\n",
    "# Importing the libraries\n",
    "import numpy as np\n",
    "import matplotlib.pyplot as plt\n",
    "import pandas as pd"
   ]
  },
  {
   "cell_type": "code",
   "execution_count": 3,
   "metadata": {},
   "outputs": [
    {
     "data": {
      "text/html": [
       "<div>\n",
       "<style scoped>\n",
       "    .dataframe tbody tr th:only-of-type {\n",
       "        vertical-align: middle;\n",
       "    }\n",
       "\n",
       "    .dataframe tbody tr th {\n",
       "        vertical-align: top;\n",
       "    }\n",
       "\n",
       "    .dataframe thead th {\n",
       "        text-align: right;\n",
       "    }\n",
       "</style>\n",
       "<table border=\"1\" class=\"dataframe\">\n",
       "  <thead>\n",
       "    <tr style=\"text-align: right;\">\n",
       "      <th></th>\n",
       "      <th>RowNumber</th>\n",
       "      <th>CustomerId</th>\n",
       "      <th>Surname</th>\n",
       "      <th>CreditScore</th>\n",
       "      <th>Geography</th>\n",
       "      <th>Gender</th>\n",
       "      <th>Age</th>\n",
       "      <th>Tenure</th>\n",
       "      <th>Balance</th>\n",
       "      <th>NumOfProducts</th>\n",
       "      <th>HasCrCard</th>\n",
       "      <th>IsActiveMember</th>\n",
       "      <th>EstimatedSalary</th>\n",
       "      <th>Exited</th>\n",
       "    </tr>\n",
       "  </thead>\n",
       "  <tbody>\n",
       "    <tr>\n",
       "      <th>0</th>\n",
       "      <td>1</td>\n",
       "      <td>15634602</td>\n",
       "      <td>Hargrave</td>\n",
       "      <td>619</td>\n",
       "      <td>France</td>\n",
       "      <td>Female</td>\n",
       "      <td>42</td>\n",
       "      <td>2</td>\n",
       "      <td>0.00</td>\n",
       "      <td>1</td>\n",
       "      <td>1</td>\n",
       "      <td>1</td>\n",
       "      <td>101348.88</td>\n",
       "      <td>1</td>\n",
       "    </tr>\n",
       "    <tr>\n",
       "      <th>1</th>\n",
       "      <td>2</td>\n",
       "      <td>15647311</td>\n",
       "      <td>Hill</td>\n",
       "      <td>608</td>\n",
       "      <td>Spain</td>\n",
       "      <td>Female</td>\n",
       "      <td>41</td>\n",
       "      <td>1</td>\n",
       "      <td>83807.86</td>\n",
       "      <td>1</td>\n",
       "      <td>0</td>\n",
       "      <td>1</td>\n",
       "      <td>112542.58</td>\n",
       "      <td>0</td>\n",
       "    </tr>\n",
       "    <tr>\n",
       "      <th>2</th>\n",
       "      <td>3</td>\n",
       "      <td>15619304</td>\n",
       "      <td>Onio</td>\n",
       "      <td>502</td>\n",
       "      <td>France</td>\n",
       "      <td>Female</td>\n",
       "      <td>42</td>\n",
       "      <td>8</td>\n",
       "      <td>159660.80</td>\n",
       "      <td>3</td>\n",
       "      <td>1</td>\n",
       "      <td>0</td>\n",
       "      <td>113931.57</td>\n",
       "      <td>1</td>\n",
       "    </tr>\n",
       "    <tr>\n",
       "      <th>3</th>\n",
       "      <td>4</td>\n",
       "      <td>15701354</td>\n",
       "      <td>Boni</td>\n",
       "      <td>699</td>\n",
       "      <td>France</td>\n",
       "      <td>Female</td>\n",
       "      <td>39</td>\n",
       "      <td>1</td>\n",
       "      <td>0.00</td>\n",
       "      <td>2</td>\n",
       "      <td>0</td>\n",
       "      <td>0</td>\n",
       "      <td>93826.63</td>\n",
       "      <td>0</td>\n",
       "    </tr>\n",
       "    <tr>\n",
       "      <th>4</th>\n",
       "      <td>5</td>\n",
       "      <td>15737888</td>\n",
       "      <td>Mitchell</td>\n",
       "      <td>850</td>\n",
       "      <td>Spain</td>\n",
       "      <td>Female</td>\n",
       "      <td>43</td>\n",
       "      <td>2</td>\n",
       "      <td>125510.82</td>\n",
       "      <td>1</td>\n",
       "      <td>1</td>\n",
       "      <td>1</td>\n",
       "      <td>79084.10</td>\n",
       "      <td>0</td>\n",
       "    </tr>\n",
       "  </tbody>\n",
       "</table>\n",
       "</div>"
      ],
      "text/plain": [
       "   RowNumber  CustomerId   Surname  CreditScore Geography  Gender  Age  \\\n",
       "0          1    15634602  Hargrave          619    France  Female   42   \n",
       "1          2    15647311      Hill          608     Spain  Female   41   \n",
       "2          3    15619304      Onio          502    France  Female   42   \n",
       "3          4    15701354      Boni          699    France  Female   39   \n",
       "4          5    15737888  Mitchell          850     Spain  Female   43   \n",
       "\n",
       "   Tenure    Balance  NumOfProducts  HasCrCard  IsActiveMember  \\\n",
       "0       2       0.00              1          1               1   \n",
       "1       1   83807.86              1          0               1   \n",
       "2       8  159660.80              3          1               0   \n",
       "3       1       0.00              2          0               0   \n",
       "4       2  125510.82              1          1               1   \n",
       "\n",
       "   EstimatedSalary  Exited  \n",
       "0        101348.88       1  \n",
       "1        112542.58       0  \n",
       "2        113931.57       1  \n",
       "3         93826.63       0  \n",
       "4         79084.10       0  "
      ]
     },
     "execution_count": 3,
     "metadata": {},
     "output_type": "execute_result"
    }
   ],
   "source": [
    "# Importing the dataset\n",
    "dataset = pd.read_csv('/home/sakil/Desktop/DeepLearningProjects/Churn_Modelling.csv')\n",
    "dataset.head()"
   ]
  },
  {
   "cell_type": "code",
   "execution_count": 4,
   "metadata": {},
   "outputs": [],
   "source": [
    "#selecting features from 3 to 13\n",
    "X = dataset.iloc[:, 3:13]\n",
    "#storing target variable in y\n",
    "y = dataset.iloc[:, 13]"
   ]
  },
  {
   "cell_type": "code",
   "execution_count": 5,
   "metadata": {},
   "outputs": [],
   "source": [
    "#Create dummy variables\n",
    "geography=pd.get_dummies(X[\"Geography\"],drop_first=True)\n",
    "gender=pd.get_dummies(X['Gender'],drop_first=True)"
   ]
  },
  {
   "cell_type": "code",
   "execution_count": 6,
   "metadata": {},
   "outputs": [],
   "source": [
    "## Concatenate the Data Frames\n",
    "\n",
    "X=pd.concat([X,geography,gender],axis=1)"
   ]
  },
  {
   "cell_type": "code",
   "execution_count": 7,
   "metadata": {},
   "outputs": [],
   "source": [
    "## Drop Unnecessary columns\n",
    "X=X.drop(['Geography','Gender'],axis=1)"
   ]
  },
  {
   "cell_type": "code",
   "execution_count": 8,
   "metadata": {},
   "outputs": [],
   "source": [
    "# Splitting the dataset into the Training set and Test set\n",
    "from sklearn.model_selection import train_test_split\n",
    "X_train, X_test, y_train, y_test = train_test_split(X, y, test_size = 0.2, random_state = 0)"
   ]
  },
  {
   "cell_type": "code",
   "execution_count": 9,
   "metadata": {},
   "outputs": [],
   "source": [
    "# Feature Scaling\n",
    "from sklearn.preprocessing import StandardScaler\n",
    "sc = StandardScaler()\n",
    "X_train = sc.fit_transform(X_train)\n",
    "X_test = sc.transform(X_test)"
   ]
  },
  {
   "cell_type": "code",
   "execution_count": 10,
   "metadata": {
    "scrolled": true
   },
   "outputs": [
    {
     "name": "stderr",
     "output_type": "stream",
     "text": [
      "Using TensorFlow backend.\n",
      "/home/sakil/anaconda/lib/python3.7/site-packages/tensorflow/python/framework/dtypes.py:516: FutureWarning: Passing (type, 1) or '1type' as a synonym of type is deprecated; in a future version of numpy, it will be understood as (type, (1,)) / '(1,)type'.\n",
      "  _np_qint8 = np.dtype([(\"qint8\", np.int8, 1)])\n",
      "/home/sakil/anaconda/lib/python3.7/site-packages/tensorflow/python/framework/dtypes.py:517: FutureWarning: Passing (type, 1) or '1type' as a synonym of type is deprecated; in a future version of numpy, it will be understood as (type, (1,)) / '(1,)type'.\n",
      "  _np_quint8 = np.dtype([(\"quint8\", np.uint8, 1)])\n",
      "/home/sakil/anaconda/lib/python3.7/site-packages/tensorflow/python/framework/dtypes.py:518: FutureWarning: Passing (type, 1) or '1type' as a synonym of type is deprecated; in a future version of numpy, it will be understood as (type, (1,)) / '(1,)type'.\n",
      "  _np_qint16 = np.dtype([(\"qint16\", np.int16, 1)])\n",
      "/home/sakil/anaconda/lib/python3.7/site-packages/tensorflow/python/framework/dtypes.py:519: FutureWarning: Passing (type, 1) or '1type' as a synonym of type is deprecated; in a future version of numpy, it will be understood as (type, (1,)) / '(1,)type'.\n",
      "  _np_quint16 = np.dtype([(\"quint16\", np.uint16, 1)])\n",
      "/home/sakil/anaconda/lib/python3.7/site-packages/tensorflow/python/framework/dtypes.py:520: FutureWarning: Passing (type, 1) or '1type' as a synonym of type is deprecated; in a future version of numpy, it will be understood as (type, (1,)) / '(1,)type'.\n",
      "  _np_qint32 = np.dtype([(\"qint32\", np.int32, 1)])\n",
      "/home/sakil/anaconda/lib/python3.7/site-packages/tensorflow/python/framework/dtypes.py:525: FutureWarning: Passing (type, 1) or '1type' as a synonym of type is deprecated; in a future version of numpy, it will be understood as (type, (1,)) / '(1,)type'.\n",
      "  np_resource = np.dtype([(\"resource\", np.ubyte, 1)])\n",
      "/home/sakil/anaconda/lib/python3.7/site-packages/tensorboard/compat/tensorflow_stub/dtypes.py:541: FutureWarning: Passing (type, 1) or '1type' as a synonym of type is deprecated; in a future version of numpy, it will be understood as (type, (1,)) / '(1,)type'.\n",
      "  _np_qint8 = np.dtype([(\"qint8\", np.int8, 1)])\n",
      "/home/sakil/anaconda/lib/python3.7/site-packages/tensorboard/compat/tensorflow_stub/dtypes.py:542: FutureWarning: Passing (type, 1) or '1type' as a synonym of type is deprecated; in a future version of numpy, it will be understood as (type, (1,)) / '(1,)type'.\n",
      "  _np_quint8 = np.dtype([(\"quint8\", np.uint8, 1)])\n",
      "/home/sakil/anaconda/lib/python3.7/site-packages/tensorboard/compat/tensorflow_stub/dtypes.py:543: FutureWarning: Passing (type, 1) or '1type' as a synonym of type is deprecated; in a future version of numpy, it will be understood as (type, (1,)) / '(1,)type'.\n",
      "  _np_qint16 = np.dtype([(\"qint16\", np.int16, 1)])\n",
      "/home/sakil/anaconda/lib/python3.7/site-packages/tensorboard/compat/tensorflow_stub/dtypes.py:544: FutureWarning: Passing (type, 1) or '1type' as a synonym of type is deprecated; in a future version of numpy, it will be understood as (type, (1,)) / '(1,)type'.\n",
      "  _np_quint16 = np.dtype([(\"quint16\", np.uint16, 1)])\n",
      "/home/sakil/anaconda/lib/python3.7/site-packages/tensorboard/compat/tensorflow_stub/dtypes.py:545: FutureWarning: Passing (type, 1) or '1type' as a synonym of type is deprecated; in a future version of numpy, it will be understood as (type, (1,)) / '(1,)type'.\n",
      "  _np_qint32 = np.dtype([(\"qint32\", np.int32, 1)])\n",
      "/home/sakil/anaconda/lib/python3.7/site-packages/tensorboard/compat/tensorflow_stub/dtypes.py:550: FutureWarning: Passing (type, 1) or '1type' as a synonym of type is deprecated; in a future version of numpy, it will be understood as (type, (1,)) / '(1,)type'.\n",
      "  np_resource = np.dtype([(\"resource\", np.ubyte, 1)])\n"
     ]
    }
   ],
   "source": [
    "# Part 2 - Now let's make the ANN!\n",
    "\n",
    "# Importing the Keras libraries and packages\n",
    "#Dense is used for creating layers in deep learning\n",
    "import keras\n",
    "from keras.models import Sequential\n",
    "from keras.layers import Dense\n",
    "from keras.layers import LeakyReLU,PReLU,ELU\n",
    "from keras.layers import Dropout"
   ]
  },
  {
   "cell_type": "code",
   "execution_count": 11,
   "metadata": {},
   "outputs": [],
   "source": [
    "# Initialising the ANN\n",
    "classifier = Sequential()"
   ]
  },
  {
   "cell_type": "code",
   "execution_count": 12,
   "metadata": {
    "scrolled": true
   },
   "outputs": [
    {
     "name": "stderr",
     "output_type": "stream",
     "text": [
      "/home/sakil/anaconda/lib/python3.7/site-packages/ipykernel_launcher.py:2: UserWarning: Update your `Dense` call to the Keras 2 API: `Dense(activation=\"relu\", input_dim=11, units=6, kernel_initializer=\"he_uniform\")`\n",
      "  \n"
     ]
    }
   ],
   "source": [
    "# Adding the input layer and the first hidden layer\n",
    "#we are giving output_dim=6,input_dim=11 as we have 11 input features\n",
    "#we are using init='he_uniform'initialization,we are using activation='relu',generally relu performs well\n",
    "classifier.add(Dense(output_dim = 6, init = 'he_uniform',activation='relu',input_dim = 11))"
   ]
  },
  {
   "cell_type": "code",
   "execution_count": 13,
   "metadata": {
    "scrolled": true
   },
   "outputs": [
    {
     "name": "stderr",
     "output_type": "stream",
     "text": [
      "/home/sakil/anaconda/lib/python3.7/site-packages/ipykernel_launcher.py:2: UserWarning: Update your `Dense` call to the Keras 2 API: `Dense(activation=\"relu\", units=6, kernel_initializer=\"he_uniform\")`\n",
      "  \n"
     ]
    }
   ],
   "source": [
    "# Adding the second hidden layer\n",
    "classifier.add(Dense(output_dim = 6, init = 'he_uniform',activation='relu'))"
   ]
  },
  {
   "cell_type": "code",
   "execution_count": 14,
   "metadata": {
    "scrolled": true
   },
   "outputs": [
    {
     "name": "stderr",
     "output_type": "stream",
     "text": [
      "/home/sakil/anaconda/lib/python3.7/site-packages/ipykernel_launcher.py:2: UserWarning: Update your `Dense` call to the Keras 2 API: `Dense(activation=\"sigmoid\", units=1, kernel_initializer=\"glorot_uniform\")`\n",
      "  \n"
     ]
    }
   ],
   "source": [
    "# Adding the output layer\n",
    "#as output layer will be 1 so we are using output_dim=1\n",
    "#In output layer case , we are using activation function=sigmoid\n",
    "classifier.add(Dense(output_dim = 1, init = 'glorot_uniform', activation = 'sigmoid'))\n"
   ]
  },
  {
   "cell_type": "code",
   "execution_count": 15,
   "metadata": {
    "scrolled": true
   },
   "outputs": [
    {
     "name": "stdout",
     "output_type": "stream",
     "text": [
      "WARNING:tensorflow:From /home/sakil/anaconda/lib/python3.7/site-packages/tensorflow/python/ops/nn_impl.py:180: add_dispatch_support.<locals>.wrapper (from tensorflow.python.ops.array_ops) is deprecated and will be removed in a future version.\n",
      "Instructions for updating:\n",
      "Use tf.where in 2.0, which has the same broadcast rule as np.where\n"
     ]
    }
   ],
   "source": [
    "# Compiling the ANN\n",
    "#here we are uisng opimizer=Adamax,loss=binary_crossentropy as it is binary classification\n",
    "#metrics=accuracy\n",
    "classifier.compile(optimizer = 'Adamax', loss = 'binary_crossentropy', metrics = ['accuracy'])\n"
   ]
  },
  {
   "cell_type": "code",
   "execution_count": 16,
   "metadata": {
    "scrolled": false
   },
   "outputs": [
    {
     "name": "stderr",
     "output_type": "stream",
     "text": [
      "/home/sakil/anaconda/lib/python3.7/site-packages/ipykernel_launcher.py:2: UserWarning: The `nb_epoch` argument in `fit` has been renamed `epochs`.\n",
      "  \n"
     ]
    },
    {
     "name": "stdout",
     "output_type": "stream",
     "text": [
      "WARNING:tensorflow:From /home/sakil/anaconda/lib/python3.7/site-packages/keras/backend/tensorflow_backend.py:422: The name tf.global_variables is deprecated. Please use tf.compat.v1.global_variables instead.\n",
      "\n",
      "Train on 5359 samples, validate on 2641 samples\n",
      "Epoch 1/100\n",
      "5359/5359 [==============================] - 3s 517us/step - loss: 0.6451 - accuracy: 0.7016 - val_loss: 0.5315 - val_accuracy: 0.8005\n",
      "Epoch 2/100\n",
      "5359/5359 [==============================] - 2s 306us/step - loss: 0.4925 - accuracy: 0.8015 - val_loss: 0.4690 - val_accuracy: 0.8031\n",
      "Epoch 3/100\n",
      "5359/5359 [==============================] - 2s 298us/step - loss: 0.4525 - accuracy: 0.8108 - val_loss: 0.4521 - val_accuracy: 0.8080\n",
      "Epoch 4/100\n",
      "5359/5359 [==============================] - 2s 297us/step - loss: 0.4372 - accuracy: 0.8169 - val_loss: 0.4428 - val_accuracy: 0.8092\n",
      "Epoch 5/100\n",
      "5359/5359 [==============================] - 2s 293us/step - loss: 0.4272 - accuracy: 0.8179 - val_loss: 0.4366 - val_accuracy: 0.8095\n",
      "Epoch 6/100\n",
      "5359/5359 [==============================] - 2s 293us/step - loss: 0.4198 - accuracy: 0.8214 - val_loss: 0.4301 - val_accuracy: 0.8152\n",
      "Epoch 7/100\n",
      "5359/5359 [==============================] - 2s 300us/step - loss: 0.4130 - accuracy: 0.8274 - val_loss: 0.4235 - val_accuracy: 0.8167\n",
      "Epoch 8/100\n",
      "5359/5359 [==============================] - 2s 292us/step - loss: 0.4057 - accuracy: 0.8306 - val_loss: 0.4164 - val_accuracy: 0.8201\n",
      "Epoch 9/100\n",
      "5359/5359 [==============================] - 2s 295us/step - loss: 0.3983 - accuracy: 0.8349 - val_loss: 0.4092 - val_accuracy: 0.8209\n",
      "Epoch 10/100\n",
      "5359/5359 [==============================] - 2s 293us/step - loss: 0.3900 - accuracy: 0.8410 - val_loss: 0.3999 - val_accuracy: 0.8304\n",
      "Epoch 11/100\n",
      "5359/5359 [==============================] - 2s 324us/step - loss: 0.3820 - accuracy: 0.8464 - val_loss: 0.3925 - val_accuracy: 0.8353\n",
      "Epoch 12/100\n",
      "5359/5359 [==============================] - 2s 369us/step - loss: 0.3745 - accuracy: 0.8492 - val_loss: 0.3860 - val_accuracy: 0.8349\n",
      "Epoch 13/100\n",
      "5359/5359 [==============================] - 3s 467us/step - loss: 0.3683 - accuracy: 0.8517 - val_loss: 0.3815 - val_accuracy: 0.8379\n",
      "Epoch 14/100\n",
      "5359/5359 [==============================] - 2s 442us/step - loss: 0.3635 - accuracy: 0.8528 - val_loss: 0.3763 - val_accuracy: 0.8421\n",
      "Epoch 15/100\n",
      "5359/5359 [==============================] - 2s 402us/step - loss: 0.3590 - accuracy: 0.8522 - val_loss: 0.3731 - val_accuracy: 0.8444\n",
      "Epoch 16/100\n",
      "5359/5359 [==============================] - 2s 354us/step - loss: 0.3559 - accuracy: 0.8543 - val_loss: 0.3709 - val_accuracy: 0.8436\n",
      "Epoch 17/100\n",
      "5359/5359 [==============================] - 2s 393us/step - loss: 0.3530 - accuracy: 0.8545 - val_loss: 0.3692 - val_accuracy: 0.8406\n",
      "Epoch 18/100\n",
      "5359/5359 [==============================] - 2s 370us/step - loss: 0.3505 - accuracy: 0.8526 - val_loss: 0.3683 - val_accuracy: 0.8451\n",
      "Epoch 19/100\n",
      "5359/5359 [==============================] - 2s 401us/step - loss: 0.3488 - accuracy: 0.8537 - val_loss: 0.3679 - val_accuracy: 0.8448\n",
      "Epoch 20/100\n",
      "5359/5359 [==============================] - 2s 336us/step - loss: 0.3472 - accuracy: 0.8545 - val_loss: 0.3662 - val_accuracy: 0.8444\n",
      "Epoch 21/100\n",
      "5359/5359 [==============================] - 2s 391us/step - loss: 0.3461 - accuracy: 0.8559 - val_loss: 0.3657 - val_accuracy: 0.8436\n",
      "Epoch 22/100\n",
      "5359/5359 [==============================] - 2s 372us/step - loss: 0.3446 - accuracy: 0.8548 - val_loss: 0.3649 - val_accuracy: 0.8489\n",
      "Epoch 23/100\n",
      "5359/5359 [==============================] - 2s 301us/step - loss: 0.3436 - accuracy: 0.8550 - val_loss: 0.3641 - val_accuracy: 0.8463\n",
      "Epoch 24/100\n",
      "5359/5359 [==============================] - 2s 302us/step - loss: 0.3427 - accuracy: 0.8559 - val_loss: 0.3646 - val_accuracy: 0.8493\n",
      "Epoch 25/100\n",
      "5359/5359 [==============================] - 2s 311us/step - loss: 0.3419 - accuracy: 0.8567 - val_loss: 0.3634 - val_accuracy: 0.8470\n",
      "Epoch 26/100\n",
      "5359/5359 [==============================] - 2s 299us/step - loss: 0.3411 - accuracy: 0.8580 - val_loss: 0.3630 - val_accuracy: 0.8493\n",
      "Epoch 27/100\n",
      "5359/5359 [==============================] - 2s 295us/step - loss: 0.3403 - accuracy: 0.8576 - val_loss: 0.3629 - val_accuracy: 0.8489\n",
      "Epoch 28/100\n",
      "5359/5359 [==============================] - 2s 331us/step - loss: 0.3396 - accuracy: 0.8574 - val_loss: 0.3623 - val_accuracy: 0.8504\n",
      "Epoch 29/100\n",
      "5359/5359 [==============================] - 2s 419us/step - loss: 0.3395 - accuracy: 0.8582 - val_loss: 0.3615 - val_accuracy: 0.8516\n",
      "Epoch 30/100\n",
      "5359/5359 [==============================] - 2s 294us/step - loss: 0.3387 - accuracy: 0.8565 - val_loss: 0.3624 - val_accuracy: 0.8474\n",
      "Epoch 31/100\n",
      "5359/5359 [==============================] - 2s 292us/step - loss: 0.3382 - accuracy: 0.8591 - val_loss: 0.3625 - val_accuracy: 0.8493\n",
      "Epoch 32/100\n",
      "5359/5359 [==============================] - 2s 305us/step - loss: 0.3377 - accuracy: 0.8591 - val_loss: 0.3613 - val_accuracy: 0.8519\n",
      "Epoch 33/100\n",
      "5359/5359 [==============================] - 2s 312us/step - loss: 0.3372 - accuracy: 0.8591 - val_loss: 0.3611 - val_accuracy: 0.8504\n",
      "Epoch 34/100\n",
      "5359/5359 [==============================] - 2s 325us/step - loss: 0.3368 - accuracy: 0.8578 - val_loss: 0.3618 - val_accuracy: 0.8504\n",
      "Epoch 35/100\n",
      "5359/5359 [==============================] - 2s 363us/step - loss: 0.3367 - accuracy: 0.8595 - val_loss: 0.3614 - val_accuracy: 0.8516\n",
      "Epoch 36/100\n",
      "5359/5359 [==============================] - 2s 347us/step - loss: 0.3366 - accuracy: 0.8589 - val_loss: 0.3609 - val_accuracy: 0.8501\n",
      "Epoch 37/100\n",
      "5359/5359 [==============================] - 2s 411us/step - loss: 0.3361 - accuracy: 0.8602 - val_loss: 0.3619 - val_accuracy: 0.8497\n",
      "Epoch 38/100\n",
      "5359/5359 [==============================] - 2s 382us/step - loss: 0.3358 - accuracy: 0.8612 - val_loss: 0.3613 - val_accuracy: 0.8516\n",
      "Epoch 39/100\n",
      "5359/5359 [==============================] - 2s 416us/step - loss: 0.3357 - accuracy: 0.8591 - val_loss: 0.3609 - val_accuracy: 0.8485\n",
      "Epoch 40/100\n",
      "5359/5359 [==============================] - 2s 369us/step - loss: 0.3352 - accuracy: 0.8593 - val_loss: 0.3610 - val_accuracy: 0.8508\n",
      "Epoch 41/100\n",
      "5359/5359 [==============================] - 2s 325us/step - loss: 0.3351 - accuracy: 0.8608 - val_loss: 0.3606 - val_accuracy: 0.8508\n",
      "Epoch 42/100\n",
      "5359/5359 [==============================] - 2s 322us/step - loss: 0.3349 - accuracy: 0.8593 - val_loss: 0.3604 - val_accuracy: 0.8527\n",
      "Epoch 43/100\n",
      "5359/5359 [==============================] - 2s 332us/step - loss: 0.3346 - accuracy: 0.8599 - val_loss: 0.3609 - val_accuracy: 0.8519\n",
      "Epoch 44/100\n",
      "5359/5359 [==============================] - 2s 324us/step - loss: 0.3343 - accuracy: 0.8587 - val_loss: 0.3610 - val_accuracy: 0.8527\n",
      "Epoch 45/100\n",
      "5359/5359 [==============================] - 3s 506us/step - loss: 0.3340 - accuracy: 0.8595 - val_loss: 0.3615 - val_accuracy: 0.8527\n",
      "Epoch 46/100\n",
      "5359/5359 [==============================] - 2s 321us/step - loss: 0.3338 - accuracy: 0.8610 - val_loss: 0.3613 - val_accuracy: 0.8542\n",
      "Epoch 47/100\n",
      "5359/5359 [==============================] - 2s 328us/step - loss: 0.3335 - accuracy: 0.8604 - val_loss: 0.3601 - val_accuracy: 0.8531\n",
      "Epoch 48/100\n",
      "5359/5359 [==============================] - 2s 324us/step - loss: 0.3335 - accuracy: 0.8610 - val_loss: 0.3606 - val_accuracy: 0.8527\n",
      "Epoch 49/100\n",
      "5359/5359 [==============================] - 2s 320us/step - loss: 0.3332 - accuracy: 0.8612 - val_loss: 0.3605 - val_accuracy: 0.8538\n",
      "Epoch 50/100\n",
      "5359/5359 [==============================] - 2s 336us/step - loss: 0.3327 - accuracy: 0.8600 - val_loss: 0.3605 - val_accuracy: 0.8523\n",
      "Epoch 51/100\n",
      "5359/5359 [==============================] - 2s 317us/step - loss: 0.3324 - accuracy: 0.8589 - val_loss: 0.3603 - val_accuracy: 0.8546\n",
      "Epoch 52/100\n",
      "5359/5359 [==============================] - 2s 332us/step - loss: 0.3324 - accuracy: 0.8615 - val_loss: 0.3612 - val_accuracy: 0.8542\n",
      "Epoch 53/100\n",
      "5359/5359 [==============================] - 2s 316us/step - loss: 0.3323 - accuracy: 0.8623 - val_loss: 0.3602 - val_accuracy: 0.8542\n",
      "Epoch 54/100\n",
      "5359/5359 [==============================] - 3s 489us/step - loss: 0.3315 - accuracy: 0.8606 - val_loss: 0.3618 - val_accuracy: 0.8535\n",
      "Epoch 55/100\n",
      "5359/5359 [==============================] - 2s 282us/step - loss: 0.3319 - accuracy: 0.8614 - val_loss: 0.3606 - val_accuracy: 0.8538\n",
      "Epoch 56/100\n",
      "5359/5359 [==============================] - 2s 284us/step - loss: 0.3315 - accuracy: 0.8612 - val_loss: 0.3601 - val_accuracy: 0.8554\n",
      "Epoch 57/100\n",
      "5359/5359 [==============================] - 2s 284us/step - loss: 0.3313 - accuracy: 0.8619 - val_loss: 0.3603 - val_accuracy: 0.8554\n",
      "Epoch 58/100\n",
      "5359/5359 [==============================] - 2s 282us/step - loss: 0.3312 - accuracy: 0.8632 - val_loss: 0.3608 - val_accuracy: 0.8546\n",
      "Epoch 59/100\n",
      "5359/5359 [==============================] - 1s 278us/step - loss: 0.3313 - accuracy: 0.8606 - val_loss: 0.3611 - val_accuracy: 0.8531\n",
      "Epoch 60/100\n",
      "5359/5359 [==============================] - 2s 281us/step - loss: 0.3313 - accuracy: 0.8610 - val_loss: 0.3604 - val_accuracy: 0.8542\n",
      "Epoch 61/100\n",
      "5359/5359 [==============================] - 2s 284us/step - loss: 0.3310 - accuracy: 0.8614 - val_loss: 0.3604 - val_accuracy: 0.8550\n",
      "Epoch 62/100\n",
      "5359/5359 [==============================] - 2s 287us/step - loss: 0.3309 - accuracy: 0.8623 - val_loss: 0.3605 - val_accuracy: 0.8542\n",
      "Epoch 63/100\n",
      "5359/5359 [==============================] - 2s 426us/step - loss: 0.3306 - accuracy: 0.8615 - val_loss: 0.3599 - val_accuracy: 0.8557\n",
      "Epoch 64/100\n",
      "5359/5359 [==============================] - 2s 285us/step - loss: 0.3304 - accuracy: 0.8617 - val_loss: 0.3599 - val_accuracy: 0.8546\n",
      "Epoch 65/100\n",
      "5359/5359 [==============================] - 2s 283us/step - loss: 0.3305 - accuracy: 0.8617 - val_loss: 0.3593 - val_accuracy: 0.8569\n",
      "Epoch 66/100\n",
      "5359/5359 [==============================] - 2s 281us/step - loss: 0.3304 - accuracy: 0.8604 - val_loss: 0.3608 - val_accuracy: 0.8531\n",
      "Epoch 67/100\n",
      "5359/5359 [==============================] - 2s 281us/step - loss: 0.3303 - accuracy: 0.8600 - val_loss: 0.3595 - val_accuracy: 0.8565\n",
      "Epoch 68/100\n",
      "5359/5359 [==============================] - 2s 284us/step - loss: 0.3297 - accuracy: 0.8610 - val_loss: 0.3592 - val_accuracy: 0.8576\n",
      "Epoch 69/100\n",
      "5359/5359 [==============================] - 2s 284us/step - loss: 0.3298 - accuracy: 0.8623 - val_loss: 0.3593 - val_accuracy: 0.8554\n",
      "Epoch 70/100\n",
      "5359/5359 [==============================] - 2s 282us/step - loss: 0.3298 - accuracy: 0.8612 - val_loss: 0.3596 - val_accuracy: 0.8569\n",
      "Epoch 71/100\n",
      "5359/5359 [==============================] - 2s 282us/step - loss: 0.3299 - accuracy: 0.8617 - val_loss: 0.3594 - val_accuracy: 0.8599\n",
      "Epoch 72/100\n",
      "5359/5359 [==============================] - 2s 283us/step - loss: 0.3293 - accuracy: 0.8597 - val_loss: 0.3594 - val_accuracy: 0.8588\n",
      "Epoch 73/100\n",
      "5359/5359 [==============================] - 1s 279us/step - loss: 0.3296 - accuracy: 0.8615 - val_loss: 0.3590 - val_accuracy: 0.8573\n",
      "Epoch 74/100\n",
      "5359/5359 [==============================] - 2s 284us/step - loss: 0.3295 - accuracy: 0.8636 - val_loss: 0.3596 - val_accuracy: 0.8546\n",
      "Epoch 75/100\n",
      "5359/5359 [==============================] - 2s 285us/step - loss: 0.3295 - accuracy: 0.8615 - val_loss: 0.3590 - val_accuracy: 0.8584\n",
      "Epoch 76/100\n",
      "5359/5359 [==============================] - 2s 283us/step - loss: 0.3289 - accuracy: 0.8619 - val_loss: 0.3590 - val_accuracy: 0.8569\n",
      "Epoch 77/100\n",
      "5359/5359 [==============================] - 2s 290us/step - loss: 0.3287 - accuracy: 0.8642 - val_loss: 0.3598 - val_accuracy: 0.8557\n",
      "Epoch 78/100\n",
      "5359/5359 [==============================] - 1s 279us/step - loss: 0.3290 - accuracy: 0.8627 - val_loss: 0.3590 - val_accuracy: 0.8591\n",
      "Epoch 79/100\n",
      "5359/5359 [==============================] - 2s 283us/step - loss: 0.3287 - accuracy: 0.8623 - val_loss: 0.3591 - val_accuracy: 0.8599\n",
      "Epoch 80/100\n",
      "5359/5359 [==============================] - 1s 278us/step - loss: 0.3286 - accuracy: 0.8625 - val_loss: 0.3600 - val_accuracy: 0.8576\n",
      "Epoch 81/100\n",
      "5359/5359 [==============================] - 2s 290us/step - loss: 0.3287 - accuracy: 0.8619 - val_loss: 0.3594 - val_accuracy: 0.8565\n",
      "Epoch 82/100\n",
      "5359/5359 [==============================] - 2s 414us/step - loss: 0.3287 - accuracy: 0.8632 - val_loss: 0.3588 - val_accuracy: 0.8584\n",
      "Epoch 83/100\n",
      "5359/5359 [==============================] - 2s 300us/step - loss: 0.3284 - accuracy: 0.8625 - val_loss: 0.3587 - val_accuracy: 0.8591\n",
      "Epoch 84/100\n",
      "5359/5359 [==============================] - 2s 301us/step - loss: 0.3280 - accuracy: 0.8625 - val_loss: 0.3596 - val_accuracy: 0.8565\n",
      "Epoch 85/100\n",
      "5359/5359 [==============================] - 2s 287us/step - loss: 0.3284 - accuracy: 0.8619 - val_loss: 0.3585 - val_accuracy: 0.8580\n",
      "Epoch 86/100\n",
      "5359/5359 [==============================] - 2s 284us/step - loss: 0.3281 - accuracy: 0.8627 - val_loss: 0.3588 - val_accuracy: 0.8591\n",
      "Epoch 87/100\n",
      "5359/5359 [==============================] - 2s 287us/step - loss: 0.3285 - accuracy: 0.8628 - val_loss: 0.3583 - val_accuracy: 0.8591\n",
      "Epoch 88/100\n",
      "5359/5359 [==============================] - 2s 283us/step - loss: 0.3282 - accuracy: 0.8632 - val_loss: 0.3588 - val_accuracy: 0.8591\n",
      "Epoch 89/100\n",
      "5359/5359 [==============================] - 2s 285us/step - loss: 0.3281 - accuracy: 0.8625 - val_loss: 0.3585 - val_accuracy: 0.8588\n",
      "Epoch 90/100\n",
      "5359/5359 [==============================] - 2s 282us/step - loss: 0.3282 - accuracy: 0.8610 - val_loss: 0.3587 - val_accuracy: 0.8588\n",
      "Epoch 91/100\n",
      "5359/5359 [==============================] - 2s 283us/step - loss: 0.3277 - accuracy: 0.8625 - val_loss: 0.3609 - val_accuracy: 0.8531\n",
      "Epoch 92/100\n",
      "5359/5359 [==============================] - 2s 442us/step - loss: 0.3275 - accuracy: 0.8640 - val_loss: 0.3580 - val_accuracy: 0.8591\n",
      "Epoch 93/100\n",
      "5359/5359 [==============================] - 2s 282us/step - loss: 0.3276 - accuracy: 0.8642 - val_loss: 0.3584 - val_accuracy: 0.8591\n",
      "Epoch 94/100\n",
      "5359/5359 [==============================] - 1s 280us/step - loss: 0.3273 - accuracy: 0.8628 - val_loss: 0.3581 - val_accuracy: 0.8591\n",
      "Epoch 95/100\n",
      "5359/5359 [==============================] - 2s 287us/step - loss: 0.3274 - accuracy: 0.8634 - val_loss: 0.3581 - val_accuracy: 0.8591\n",
      "Epoch 96/100\n",
      "5359/5359 [==============================] - 2s 284us/step - loss: 0.3270 - accuracy: 0.8640 - val_loss: 0.3593 - val_accuracy: 0.8580\n",
      "Epoch 97/100\n",
      "5359/5359 [==============================] - 2s 289us/step - loss: 0.3267 - accuracy: 0.8632 - val_loss: 0.3606 - val_accuracy: 0.8573\n",
      "Epoch 98/100\n",
      "5359/5359 [==============================] - 1s 279us/step - loss: 0.3272 - accuracy: 0.8627 - val_loss: 0.3575 - val_accuracy: 0.8588\n",
      "Epoch 99/100\n",
      "5359/5359 [==============================] - 2s 290us/step - loss: 0.3270 - accuracy: 0.8643 - val_loss: 0.3576 - val_accuracy: 0.8614\n",
      "Epoch 100/100\n",
      "5359/5359 [==============================] - 2s 289us/step - loss: 0.3262 - accuracy: 0.8636 - val_loss: 0.3582 - val_accuracy: 0.8584\n"
     ]
    }
   ],
   "source": [
    "# Fitting the ANN to the Training set\n",
    "#we are making model\n",
    "model_history=classifier.fit(X_train, y_train,validation_split=0.33, batch_size = 10, nb_epoch = 100)\n"
   ]
  },
  {
   "cell_type": "code",
   "execution_count": 17,
   "metadata": {},
   "outputs": [
    {
     "name": "stdout",
     "output_type": "stream",
     "text": [
      "dict_keys(['val_loss', 'val_accuracy', 'loss', 'accuracy'])\n"
     ]
    }
   ],
   "source": [
    "# list all data in history\n",
    "\n",
    "print(model_history.history.keys())"
   ]
  },
  {
   "cell_type": "code",
   "execution_count": 21,
   "metadata": {
    "scrolled": true
   },
   "outputs": [
    {
     "data": {
      "image/png": "[encoded data removed]",
      "text/plain": [
       "<Figure size 432x288 with 1 Axes>"
      ]
     },
     "metadata": {
      "needs_background": "light"
     },
     "output_type": "display_data"
    }
   ],
   "source": [
    "# summarize history for accuracy\n",
    "plt.plot(model_history.history['accuracy'])\n",
    "plt.plot(model_history.history['val_accuracy'])\n",
    "plt.title('model accuracy')\n",
    "plt.ylabel('accuracy')\n",
    "plt.xlabel('epoch')\n",
    "plt.legend(['train', 'test'], loc='upper left')\n",
    "plt.show()"
   ]
  },
  {
   "cell_type": "code",
   "execution_count": 22,
   "metadata": {
    "scrolled": true
   },
   "outputs": [
    {
     "data": {
      "image/png": "[encoded data removed]",
      "text/plain": [
       "<Figure size 432x288 with 1 Axes>"
      ]
     },
     "metadata": {
      "needs_background": "light"
     },
     "output_type": "display_data"
    }
   ],
   "source": [
    "# summarize history for loss\n",
    "plt.plot(model_history.history['loss'])\n",
    "plt.plot(model_history.history['val_loss'])\n",
    "plt.title('model loss')\n",
    "plt.ylabel('loss')\n",
    "plt.xlabel('epoch')\n",
    "plt.legend(['train', 'test'], loc='upper left')\n",
    "plt.show()"
   ]
  },
  {
   "cell_type": "code",
   "execution_count": 23,
   "metadata": {},
   "outputs": [],
   "source": [
    "# Part 3 - Making the predictions and evaluating the model\n",
    "\n",
    "# Predicting the Test set results\n",
    "y_pred = classifier.predict(X_test)\n",
    "y_pred = (y_pred > 0.5)"
   ]
  },
  {
   "cell_type": "code",
   "execution_count": 24,
   "metadata": {},
   "outputs": [],
   "source": [
    "# Making the Confusion Matrix\n",
    "from sklearn.metrics import confusion_matrix\n",
    "cm = confusion_matrix(y_test, y_pred)"
   ]
  },
  {
   "cell_type": "code",
   "execution_count": 25,
   "metadata": {},
   "outputs": [],
   "source": [
    "# Calculate the Accuracy\n",
    "from sklearn.metrics import accuracy_score\n",
    "score=accuracy_score(y_pred,y_test)"
   ]
  },
  {
   "cell_type": "code",
   "execution_count": 26,
   "metadata": {},
   "outputs": [
    {
     "data": {
      "text/plain": [
       "0.854"
      ]
     },
     "execution_count": 26,
     "metadata": {},
     "output_type": "execute_result"
    }
   ],
   "source": [
    "score"
   ]
  }
 ],
 "metadata": {
  "kernelspec": {
   "display_name": "Python 3",
   "language": "python",
   "name": "python3"
  },
  "language_info": {
   "codemirror_mode": {
    "name": "ipython",
    "version": 3
   },
   "file_extension": ".py",
   "mimetype": "text/x-python",
   "name": "python",
   "nbconvert_exporter": "python",
   "pygments_lexer": "ipython3",
   "version": "3.7.3"
  }
 },
 "nbformat": 4,
 "nbformat_minor": 2
}
